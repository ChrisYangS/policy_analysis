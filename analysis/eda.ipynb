{
 "cells": [
  {
   "cell_type": "markdown",
   "metadata": {},
   "source": [
    "## This notebook is used to analyze and summarize the questions response from the LLM model"
   ]
  },
  {
   "cell_type": "code",
   "execution_count": 1,
   "metadata": {},
   "outputs": [
    {
     "data": {
      "application/vnd.microsoft.datawrangler.viewer.v0+json": {
       "columns": [
        {
         "name": "index",
         "rawType": "int64",
         "type": "integer"
        },
        {
         "name": "policy_types",
         "rawType": "object",
         "type": "string"
        },
        {
         "name": "policy_counts",
         "rawType": "int64",
         "type": "integer"
        },
        {
         "name": "policy_contents_words",
         "rawType": "int64",
         "type": "integer"
        }
       ],
       "conversionMethod": "pd.DataFrame",
       "ref": "419466a9-9a2a-4bee-902b-995e0c6c8311",
       "rows": [
        [
         "0",
         "Guidelines",
         "54",
         "57221"
        ],
        [
         "1",
         "Plans & Strategies",
         "2",
         "8"
        ],
        [
         "2",
         "Policies",
         "119",
         "111167"
        ],
        [
         "3",
         "Procedures",
         "61",
         "62908"
        ],
        [
         "4",
         "Regulations",
         "9",
         "9627"
        ],
        [
         "5",
         "Statutes",
         "11",
         "16949"
        ]
       ],
       "shape": {
        "columns": 3,
        "rows": 6
       }
      },
      "text/html": [
       "<div>\n",
       "<style scoped>\n",
       "    .dataframe tbody tr th:only-of-type {\n",
       "        vertical-align: middle;\n",
       "    }\n",
       "\n",
       "    .dataframe tbody tr th {\n",
       "        vertical-align: top;\n",
       "    }\n",
       "\n",
       "    .dataframe thead th {\n",
       "        text-align: right;\n",
       "    }\n",
       "</style>\n",
       "<table border=\"1\" class=\"dataframe\">\n",
       "  <thead>\n",
       "    <tr style=\"text-align: right;\">\n",
       "      <th></th>\n",
       "      <th>policy_types</th>\n",
       "      <th>policy_counts</th>\n",
       "      <th>policy_contents_words</th>\n",
       "    </tr>\n",
       "  </thead>\n",
       "  <tbody>\n",
       "    <tr>\n",
       "      <th>0</th>\n",
       "      <td>Guidelines</td>\n",
       "      <td>54</td>\n",
       "      <td>57221</td>\n",
       "    </tr>\n",
       "    <tr>\n",
       "      <th>1</th>\n",
       "      <td>Plans &amp; Strategies</td>\n",
       "      <td>2</td>\n",
       "      <td>8</td>\n",
       "    </tr>\n",
       "    <tr>\n",
       "      <th>2</th>\n",
       "      <td>Policies</td>\n",
       "      <td>119</td>\n",
       "      <td>111167</td>\n",
       "    </tr>\n",
       "    <tr>\n",
       "      <th>3</th>\n",
       "      <td>Procedures</td>\n",
       "      <td>61</td>\n",
       "      <td>62908</td>\n",
       "    </tr>\n",
       "    <tr>\n",
       "      <th>4</th>\n",
       "      <td>Regulations</td>\n",
       "      <td>9</td>\n",
       "      <td>9627</td>\n",
       "    </tr>\n",
       "    <tr>\n",
       "      <th>5</th>\n",
       "      <td>Statutes</td>\n",
       "      <td>11</td>\n",
       "      <td>16949</td>\n",
       "    </tr>\n",
       "  </tbody>\n",
       "</table>\n",
       "</div>"
      ],
      "text/plain": [
       "         policy_types  policy_counts  policy_contents_words\n",
       "0          Guidelines             54                  57221\n",
       "1  Plans & Strategies              2                      8\n",
       "2            Policies            119                 111167\n",
       "3          Procedures             61                  62908\n",
       "4         Regulations              9                   9627\n",
       "5            Statutes             11                  16949"
      ]
     },
     "execution_count": 1,
     "metadata": {},
     "output_type": "execute_result"
    }
   ],
   "source": [
    "import json\n",
    "import matplotlib.pyplot as plt\n",
    "import pandas as pd\n",
    "\n",
    "# first of all get the total number of each policies\n",
    "with open(\"../output/otago_policies_20250223233950.json\", \"r\") as f:\n",
    "    data = json.load(f)\n",
    "\n",
    "policy_types = []\n",
    "policy_counts = []\n",
    "policy_contents_words = []\n",
    "for item in data:\n",
    "    policy_types.append(item)\n",
    "    policy_counts.append(len(data[item]))\n",
    "    policy_contents_words.append(\n",
    "        sum([len(policy[\"content\"].split()) for policy in data[item]])\n",
    "    )\n",
    "\n",
    "df = {\n",
    "    \"policy_types\": policy_types,\n",
    "    \"policy_counts\": policy_counts,\n",
    "    \"policy_contents_words\": policy_contents_words,\n",
    "}\n",
    "df = pd.DataFrame(df)\n",
    "df"
   ]
  },
  {
   "cell_type": "code",
   "execution_count": 2,
   "metadata": {},
   "outputs": [
    {
     "name": "stderr",
     "output_type": "stream",
     "text": [
      "C:\\Users\\chris\\AppData\\Local\\Temp\\ipykernel_27476\\4101573331.py:7: UserWarning: set_ticklabels() should only be used with a fixed number of ticks, i.e. after set_ticks() or using a FixedLocator.\n",
      "  ax1.set_xticklabels(df[\"policy_types\"], rotation=45, ha=\"right\")\n"
     ]
    },
    {
     "data": {
      "image/png": "[encoded data removed]",
      "text/plain": [
       "<Figure size 640x480 with 2 Axes>"
      ]
     },
     "metadata": {},
     "output_type": "display_data"
    }
   ],
   "source": [
    "# plot policy_counts in bar chart while policy_contents_words in line chart\n",
    "fig, ax1 = plt.subplots()\n",
    "ax1.bar(df[\"policy_types\"], df[\"policy_counts\"])\n",
    "ax1.set_xlabel(\"Policy Types\")\n",
    "ax1.set_ylabel(\"Policy Counts\")\n",
    "ax1.tick_params(\"y\")\n",
    "ax1.set_xticklabels(df[\"policy_types\"], rotation=45, ha=\"right\")\n",
    "\n",
    "ax2 = ax1.twinx()\n",
    "ax2.plot(df[\"policy_types\"], df[\"policy_contents_words\"], color=\"r\")\n",
    "ax2.set_ylabel(\"Policy Contents Words\", color=\"r\")\n",
    "ax2.tick_params(\"y\", colors=\"r\")\n",
    "\n",
    "fig.tight_layout()\n",
    "plt.show()\n"
   ]
  },
  {
   "cell_type": "markdown",
   "metadata": {},
   "source": [
    "**Question One:** Please list all policies that contain unnecessary content such as cross-references to other policies (there's a space for this in the policy documents, but not in the words of the policy itself)?\n",
    "\n",
    "**Question Two:** Please list all policies that contain parts that are actually Procedures, not Policies (e.g. they contain instructions on how to do something, rather than rules or principles)?\n",
    "\n",
    "**Question Three:** Please list all policies that contain inconsistencies or structural flaws. For example, if a policy is missing a section that is present in other policies, or if a policy has a section that is not relevant to the policy type?\"\n",
    "\n",
    "**Question Four:** Please list all redundancy or incorrect structure of policy. It could be that there's a better way to structure the policy database, or that some policies are redundant or overlapping?\"\n"
   ]
  },
  {
   "cell_type": "code",
   "execution_count": 3,
   "metadata": {},
   "outputs": [],
   "source": [
    "# Load Policies_llama3_2.json into a python object\n",
    "\n",
    "with open ('Policies_llama3_2_updated.json', 'r') as f:\n",
    "    policies = json.load(f)"
   ]
  },
  {
   "cell_type": "code",
   "execution_count": 4,
   "metadata": {},
   "outputs": [
    {
     "data": {
      "application/vnd.microsoft.datawrangler.viewer.v0+json": {
       "columns": [
        {
         "name": "index",
         "rawType": "object",
         "type": "string"
        },
        {
         "name": "q1_consistence",
         "rawType": "int64",
         "type": "integer"
        },
        {
         "name": "q2_consistence",
         "rawType": "int64",
         "type": "integer"
        },
        {
         "name": "q3_consistence",
         "rawType": "float64",
         "type": "float"
        },
        {
         "name": "q4_consistence",
         "rawType": "float64",
         "type": "float"
        }
       ],
       "conversionMethod": "pd.DataFrame",
       "ref": "eed89ff2-6825-405c-a5f5-9d087cd44794",
       "rows": [
        [
         "CONSISTENT",
         "48",
         "79",
         "29.0",
         "41.0"
        ],
        [
         "INCONSISTENT",
         "70",
         "38",
         "90.0",
         "78.0"
        ],
        [
         "Not Applicable",
         "1",
         "2",
         null,
         null
        ]
       ],
       "shape": {
        "columns": 4,
        "rows": 3
       }
      },
      "text/html": [
       "<div>\n",
       "<style scoped>\n",
       "    .dataframe tbody tr th:only-of-type {\n",
       "        vertical-align: middle;\n",
       "    }\n",
       "\n",
       "    .dataframe tbody tr th {\n",
       "        vertical-align: top;\n",
       "    }\n",
       "\n",
       "    .dataframe thead th {\n",
       "        text-align: right;\n",
       "    }\n",
       "</style>\n",
       "<table border=\"1\" class=\"dataframe\">\n",
       "  <thead>\n",
       "    <tr style=\"text-align: right;\">\n",
       "      <th></th>\n",
       "      <th>q1_consistence</th>\n",
       "      <th>q2_consistence</th>\n",
       "      <th>q3_consistence</th>\n",
       "      <th>q4_consistence</th>\n",
       "    </tr>\n",
       "  </thead>\n",
       "  <tbody>\n",
       "    <tr>\n",
       "      <th>CONSISTENT</th>\n",
       "      <td>48</td>\n",
       "      <td>79</td>\n",
       "      <td>29.0</td>\n",
       "      <td>41.0</td>\n",
       "    </tr>\n",
       "    <tr>\n",
       "      <th>INCONSISTENT</th>\n",
       "      <td>70</td>\n",
       "      <td>38</td>\n",
       "      <td>90.0</td>\n",
       "      <td>78.0</td>\n",
       "    </tr>\n",
       "    <tr>\n",
       "      <th>Not Applicable</th>\n",
       "      <td>1</td>\n",
       "      <td>2</td>\n",
       "      <td>NaN</td>\n",
       "      <td>NaN</td>\n",
       "    </tr>\n",
       "  </tbody>\n",
       "</table>\n",
       "</div>"
      ],
      "text/plain": [
       "                q1_consistence  q2_consistence  q3_consistence  q4_consistence\n",
       "CONSISTENT                  48              79            29.0            41.0\n",
       "INCONSISTENT                70              38            90.0            78.0\n",
       "Not Applicable               1               2             NaN             NaN"
      ]
     },
     "execution_count": 4,
     "metadata": {},
     "output_type": "execute_result"
    }
   ],
   "source": [
    "# create a bar chart of number of response types in each questions\n",
    "\n",
    "# read the policies into a pandas dataframe\n",
    "df = pd.DataFrame(policies)\n",
    "# only select \"q1_consistence\", \"q2_consistence\", \"q3_consistence\" and \"q4_consistence\"\n",
    "df = df[[\"q1_consistence\", \"q2_consistence\", \"q3_consistence\", \"q4_consistence\"]]\n",
    "# count the number of each response type in each question\n",
    "df = df.apply(pd.Series.value_counts)\n",
    "df"
   ]
  },
  {
   "cell_type": "code",
   "execution_count": 5,
   "metadata": {},
   "outputs": [
    {
     "data": {
      "image/png": "[encoded data removed]",
      "text/plain": [
       "<Figure size 1000x1000 with 4 Axes>"
      ]
     },
     "metadata": {},
     "output_type": "display_data"
    }
   ],
   "source": [
    "# plot each question question response consistence in a bar chart with 4 sub plots\n",
    "for question in range(1, 5):\n",
    "    if f'q{question}_consistence' in df.columns:\n",
    "        plt.subplot(2, 2, question)\n",
    "        ax = df[f'q{question}_consistence'].plot(kind='bar')\n",
    "        ax.set_xlabel(\"Response Type\")\n",
    "        ax.set_ylabel(\"Number of Responses\")\n",
    "        ax.set_title(f\"Number of Response Types in Question {question}\")\n",
    "        #change lable and title font size\n",
    "        ax.tick_params(axis='x', labelsize=8)\n",
    "        ax.tick_params(axis='y', labelsize=8)\n",
    "        ax.title.set_size(10)\n",
    "        \n",
    "\n",
    "# change main plt size to larger\n",
    "plt.gcf().set_size_inches(10, 10)\n",
    "# add padding between subplots\n",
    "plt.tight_layout()\n",
    "# show the plot\n",
    "plt.show()\n",
    "        \n"
   ]
  },
  {
   "cell_type": "code",
   "execution_count": 6,
   "metadata": {},
   "outputs": [
    {
     "data": {
      "application/vnd.microsoft.datawrangler.viewer.v0+json": {
       "columns": [
        {
         "name": "index",
         "rawType": "int64",
         "type": "integer"
        },
        {
         "name": "name",
         "rawType": "object",
         "type": "string"
        },
        {
         "name": "num_inconsistent",
         "rawType": "int64",
         "type": "integer"
        },
        {
         "name": "num_consistent",
         "rawType": "int64",
         "type": "integer"
        },
        {
         "name": "consistent_rate",
         "rawType": "float64",
         "type": "float"
        }
       ],
       "conversionMethod": "pd.DataFrame",
       "ref": "0092c83a-57fc-4d4e-bcd2-f34227c51db2",
       "rows": [
        [
         "16",
         "Parental_Leave_Policy",
         "0",
         "4",
         "1.0"
        ],
        [
         "54",
         "Child_Protection_Policy",
         "0",
         "4",
         "1.0"
        ],
        [
         "30",
         "Emergency_Management_Policy",
         "0",
         "4",
         "1.0"
        ],
        [
         "29",
         "Closed_Circuit_Television_CCTV_Security_Systems_Policy",
         "0",
         "4",
         "1.0"
        ],
        [
         "28",
         "Treasury_Management_Policy",
         "0",
         "4",
         "1.0"
        ],
        [
         "25",
         "Information_and_Records_Management_Policy",
         "0",
         "4",
         "1.0"
        ],
        [
         "87",
         "Student_Critical_Incident_Policy",
         "0",
         "4",
         "1.0"
        ],
        [
         "46",
         "Ethical_Behaviour_Policy",
         "0",
         "4",
         "1.0"
        ],
        [
         "93",
         "Administration_of_Final_Examinations_Policy",
         "0",
         "4",
         "1.0"
        ],
        [
         "15",
         "Performance_Development_Review_Policy",
         "0",
         "4",
         "1.0"
        ]
       ],
       "shape": {
        "columns": 4,
        "rows": 10
       }
      },
      "text/html": [
       "<div>\n",
       "<style scoped>\n",
       "    .dataframe tbody tr th:only-of-type {\n",
       "        vertical-align: middle;\n",
       "    }\n",
       "\n",
       "    .dataframe tbody tr th {\n",
       "        vertical-align: top;\n",
       "    }\n",
       "\n",
       "    .dataframe thead th {\n",
       "        text-align: right;\n",
       "    }\n",
       "</style>\n",
       "<table border=\"1\" class=\"dataframe\">\n",
       "  <thead>\n",
       "    <tr style=\"text-align: right;\">\n",
       "      <th></th>\n",
       "      <th>name</th>\n",
       "      <th>num_inconsistent</th>\n",
       "      <th>num_consistent</th>\n",
       "      <th>consistent_rate</th>\n",
       "    </tr>\n",
       "  </thead>\n",
       "  <tbody>\n",
       "    <tr>\n",
       "      <th>16</th>\n",
       "      <td>Parental_Leave_Policy</td>\n",
       "      <td>0</td>\n",
       "      <td>4</td>\n",
       "      <td>1.0</td>\n",
       "    </tr>\n",
       "    <tr>\n",
       "      <th>54</th>\n",
       "      <td>Child_Protection_Policy</td>\n",
       "      <td>0</td>\n",
       "      <td>4</td>\n",
       "      <td>1.0</td>\n",
       "    </tr>\n",
       "    <tr>\n",
       "      <th>30</th>\n",
       "      <td>Emergency_Management_Policy</td>\n",
       "      <td>0</td>\n",
       "      <td>4</td>\n",
       "      <td>1.0</td>\n",
       "    </tr>\n",
       "    <tr>\n",
       "      <th>29</th>\n",
       "      <td>Closed_Circuit_Television_CCTV_Security_System...</td>\n",
       "      <td>0</td>\n",
       "      <td>4</td>\n",
       "      <td>1.0</td>\n",
       "    </tr>\n",
       "    <tr>\n",
       "      <th>28</th>\n",
       "      <td>Treasury_Management_Policy</td>\n",
       "      <td>0</td>\n",
       "      <td>4</td>\n",
       "      <td>1.0</td>\n",
       "    </tr>\n",
       "    <tr>\n",
       "      <th>25</th>\n",
       "      <td>Information_and_Records_Management_Policy</td>\n",
       "      <td>0</td>\n",
       "      <td>4</td>\n",
       "      <td>1.0</td>\n",
       "    </tr>\n",
       "    <tr>\n",
       "      <th>87</th>\n",
       "      <td>Student_Critical_Incident_Policy</td>\n",
       "      <td>0</td>\n",
       "      <td>4</td>\n",
       "      <td>1.0</td>\n",
       "    </tr>\n",
       "    <tr>\n",
       "      <th>46</th>\n",
       "      <td>Ethical_Behaviour_Policy</td>\n",
       "      <td>0</td>\n",
       "      <td>4</td>\n",
       "      <td>1.0</td>\n",
       "    </tr>\n",
       "    <tr>\n",
       "      <th>93</th>\n",
       "      <td>Administration_of_Final_Examinations_Policy</td>\n",
       "      <td>0</td>\n",
       "      <td>4</td>\n",
       "      <td>1.0</td>\n",
       "    </tr>\n",
       "    <tr>\n",
       "      <th>15</th>\n",
       "      <td>Performance_Development_Review_Policy</td>\n",
       "      <td>0</td>\n",
       "      <td>4</td>\n",
       "      <td>1.0</td>\n",
       "    </tr>\n",
       "  </tbody>\n",
       "</table>\n",
       "</div>"
      ],
      "text/plain": [
       "                                                 name  num_inconsistent  \\\n",
       "16                              Parental_Leave_Policy                 0   \n",
       "54                            Child_Protection_Policy                 0   \n",
       "30                        Emergency_Management_Policy                 0   \n",
       "29  Closed_Circuit_Television_CCTV_Security_System...                 0   \n",
       "28                         Treasury_Management_Policy                 0   \n",
       "25          Information_and_Records_Management_Policy                 0   \n",
       "87                   Student_Critical_Incident_Policy                 0   \n",
       "46                           Ethical_Behaviour_Policy                 0   \n",
       "93        Administration_of_Final_Examinations_Policy                 0   \n",
       "15              Performance_Development_Review_Policy                 0   \n",
       "\n",
       "    num_consistent  consistent_rate  \n",
       "16               4              1.0  \n",
       "54               4              1.0  \n",
       "30               4              1.0  \n",
       "29               4              1.0  \n",
       "28               4              1.0  \n",
       "25               4              1.0  \n",
       "87               4              1.0  \n",
       "46               4              1.0  \n",
       "93               4              1.0  \n",
       "15               4              1.0  "
      ]
     },
     "execution_count": 6,
     "metadata": {},
     "output_type": "execute_result"
    }
   ],
   "source": [
    "# summarize number of constant and inconsistent responses in each question\n",
    "df = pd.DataFrame(policies)\n",
    "df = df[[\"name\",\"q1_consistence\", \"q2_consistence\", \"q3_consistence\", \"q4_consistence\"]]\n",
    "# count number of inconsistent responses in each question\n",
    "df['num_inconsistent'] = df[['q1_consistence','q2_consistence','q3_consistence','q4_consistence']].eq('INCONSISTENT').sum(axis=1)\n",
    "df['num_consistent'] = df[['q1_consistence','q2_consistence','q3_consistence','q4_consistence']].eq('CONSISTENT').sum(axis=1)\n",
    "df['consistent_rate'] = df['num_consistent'] / 4\n",
    "df = df[['name','num_inconsistent','num_consistent','consistent_rate']]\n",
    "# generate the top 10 most consistent responses\n",
    "df = df.sort_values(by='num_consistent', ascending=False)\n",
    "df.head(10)"
   ]
  },
  {
   "cell_type": "code",
   "execution_count": 7,
   "metadata": {},
   "outputs": [
    {
     "data": {
      "application/vnd.microsoft.datawrangler.viewer.v0+json": {
       "columns": [
        {
         "name": "index",
         "rawType": "int64",
         "type": "integer"
        },
        {
         "name": "name",
         "rawType": "object",
         "type": "string"
        },
        {
         "name": "num_inconsistent",
         "rawType": "int64",
         "type": "integer"
        },
        {
         "name": "num_consistent",
         "rawType": "int64",
         "type": "integer"
        },
        {
         "name": "consistent_rate",
         "rawType": "float64",
         "type": "float"
        }
       ],
       "conversionMethod": "pd.DataFrame",
       "ref": "5287c725-14f6-4025-a921-143145bd6c9a",
       "rows": [
        [
         "0",
         "Equal_Employment_Opportunities_Policy",
         "4",
         "0",
         "0.0"
        ],
        [
         "101",
         "Initial_Teacher_Education_Professional_Standards_and_Criminal_Offences_Policy",
         "4",
         "0",
         "0.0"
        ],
        [
         "52",
         "Carry_Forward_Balances_Policy",
         "4",
         "0",
         "0.0"
        ],
        [
         "41",
         "Web_Policy",
         "4",
         "0",
         "0.0"
        ],
        [
         "6",
         "Fraud_Policy",
         "4",
         "0",
         "0.0"
        ],
        [
         "108",
         "Smoke_free_Policy",
         "4",
         "0",
         "0.0"
        ],
        [
         "42",
         "Policy_for_the_Award_of_the_Title_of_Emeritus_Professor",
         "4",
         "0",
         "0.0"
        ],
        [
         "78",
         "Information_Security_Policy",
         "4",
         "0",
         "0.0"
        ],
        [
         "60",
         "Health_and_Safety_Approved_Contractors_Policy",
         "4",
         "0",
         "0.0"
        ],
        [
         "8",
         "Papers_Enrolments_and_the_Use_of_Resources_Policy",
         "4",
         "0",
         "0.0"
        ]
       ],
       "shape": {
        "columns": 4,
        "rows": 10
       }
      },
      "text/html": [
       "<div>\n",
       "<style scoped>\n",
       "    .dataframe tbody tr th:only-of-type {\n",
       "        vertical-align: middle;\n",
       "    }\n",
       "\n",
       "    .dataframe tbody tr th {\n",
       "        vertical-align: top;\n",
       "    }\n",
       "\n",
       "    .dataframe thead th {\n",
       "        text-align: right;\n",
       "    }\n",
       "</style>\n",
       "<table border=\"1\" class=\"dataframe\">\n",
       "  <thead>\n",
       "    <tr style=\"text-align: right;\">\n",
       "      <th></th>\n",
       "      <th>name</th>\n",
       "      <th>num_inconsistent</th>\n",
       "      <th>num_consistent</th>\n",
       "      <th>consistent_rate</th>\n",
       "    </tr>\n",
       "  </thead>\n",
       "  <tbody>\n",
       "    <tr>\n",
       "      <th>0</th>\n",
       "      <td>Equal_Employment_Opportunities_Policy</td>\n",
       "      <td>4</td>\n",
       "      <td>0</td>\n",
       "      <td>0.0</td>\n",
       "    </tr>\n",
       "    <tr>\n",
       "      <th>101</th>\n",
       "      <td>Initial_Teacher_Education_Professional_Standar...</td>\n",
       "      <td>4</td>\n",
       "      <td>0</td>\n",
       "      <td>0.0</td>\n",
       "    </tr>\n",
       "    <tr>\n",
       "      <th>52</th>\n",
       "      <td>Carry_Forward_Balances_Policy</td>\n",
       "      <td>4</td>\n",
       "      <td>0</td>\n",
       "      <td>0.0</td>\n",
       "    </tr>\n",
       "    <tr>\n",
       "      <th>41</th>\n",
       "      <td>Web_Policy</td>\n",
       "      <td>4</td>\n",
       "      <td>0</td>\n",
       "      <td>0.0</td>\n",
       "    </tr>\n",
       "    <tr>\n",
       "      <th>6</th>\n",
       "      <td>Fraud_Policy</td>\n",
       "      <td>4</td>\n",
       "      <td>0</td>\n",
       "      <td>0.0</td>\n",
       "    </tr>\n",
       "    <tr>\n",
       "      <th>108</th>\n",
       "      <td>Smoke_free_Policy</td>\n",
       "      <td>4</td>\n",
       "      <td>0</td>\n",
       "      <td>0.0</td>\n",
       "    </tr>\n",
       "    <tr>\n",
       "      <th>42</th>\n",
       "      <td>Policy_for_the_Award_of_the_Title_of_Emeritus_...</td>\n",
       "      <td>4</td>\n",
       "      <td>0</td>\n",
       "      <td>0.0</td>\n",
       "    </tr>\n",
       "    <tr>\n",
       "      <th>78</th>\n",
       "      <td>Information_Security_Policy</td>\n",
       "      <td>4</td>\n",
       "      <td>0</td>\n",
       "      <td>0.0</td>\n",
       "    </tr>\n",
       "    <tr>\n",
       "      <th>60</th>\n",
       "      <td>Health_and_Safety_Approved_Contractors_Policy</td>\n",
       "      <td>4</td>\n",
       "      <td>0</td>\n",
       "      <td>0.0</td>\n",
       "    </tr>\n",
       "    <tr>\n",
       "      <th>8</th>\n",
       "      <td>Papers_Enrolments_and_the_Use_of_Resources_Policy</td>\n",
       "      <td>4</td>\n",
       "      <td>0</td>\n",
       "      <td>0.0</td>\n",
       "    </tr>\n",
       "  </tbody>\n",
       "</table>\n",
       "</div>"
      ],
      "text/plain": [
       "                                                  name  num_inconsistent  \\\n",
       "0                Equal_Employment_Opportunities_Policy                 4   \n",
       "101  Initial_Teacher_Education_Professional_Standar...                 4   \n",
       "52                       Carry_Forward_Balances_Policy                 4   \n",
       "41                                          Web_Policy                 4   \n",
       "6                                         Fraud_Policy                 4   \n",
       "108                                  Smoke_free_Policy                 4   \n",
       "42   Policy_for_the_Award_of_the_Title_of_Emeritus_...                 4   \n",
       "78                         Information_Security_Policy                 4   \n",
       "60       Health_and_Safety_Approved_Contractors_Policy                 4   \n",
       "8    Papers_Enrolments_and_the_Use_of_Resources_Policy                 4   \n",
       "\n",
       "     num_consistent  consistent_rate  \n",
       "0                 0              0.0  \n",
       "101               0              0.0  \n",
       "52                0              0.0  \n",
       "41                0              0.0  \n",
       "6                 0              0.0  \n",
       "108               0              0.0  \n",
       "42                0              0.0  \n",
       "78                0              0.0  \n",
       "60                0              0.0  \n",
       "8                 0              0.0  "
      ]
     },
     "execution_count": 7,
     "metadata": {},
     "output_type": "execute_result"
    }
   ],
   "source": [
    "# generate the top 10 most inconsistent responses\n",
    "df = df.sort_values(by='num_inconsistent', ascending=False)\n",
    "df.head(10)"
   ]
  },
  {
   "cell_type": "code",
   "execution_count": 8,
   "metadata": {},
   "outputs": [],
   "source": [
    "# summarize number of policies by different consistent rate\n",
    "df['consistent_rate'] = df['consistent_rate'].apply(lambda x: round(x, 2))\n",
    "df = df.groupby('consistent_rate').count()\n"
   ]
  },
  {
   "cell_type": "code",
   "execution_count": 9,
   "metadata": {},
   "outputs": [
    {
     "data": {
      "image/png": "[encoded data removed]",
      "text/plain": [
       "<Figure size 1000x1000 with 1 Axes>"
      ]
     },
     "metadata": {},
     "output_type": "display_data"
    }
   ],
   "source": [
    "# plot consistent rate distribution in pie chart and print value\n",
    "size = 0.5\n",
    "plt.pie(df[\"num_consistent\"], autopct=\"%1.1f%%\", radius=1, wedgeprops=dict(width=size, edgecolor='w'))\n",
    "plt.title(\"Consistent Rate Distribution\")\n",
    "# set legend description as Consistent Rate\n",
    "plt.legend(df.index, title=\"Consistent Rate\", loc=\"upper right\")\n",
    "# change the plot size to larger\n",
    "plt.gcf().set_size_inches(10, 10)\n",
    "plt.show()\n"
   ]
  },
  {
   "cell_type": "markdown",
   "metadata": {},
   "source": [
    "## The codes below investigating policy metadata completeness"
   ]
  },
  {
   "cell_type": "code",
   "execution_count": 10,
   "metadata": {},
   "outputs": [
    {
     "data": {
      "application/vnd.microsoft.datawrangler.viewer.v0+json": {
       "columns": [
        {
         "name": "index",
         "rawType": "int64",
         "type": "integer"
        },
        {
         "name": "Metadata Field",
         "rawType": "object",
         "type": "string"
        },
        {
         "name": "Completeness Rate",
         "rawType": "float64",
         "type": "float"
        },
        {
         "name": "Compliance Status",
         "rawType": "object",
         "type": "string"
        }
       ],
       "conversionMethod": "pd.DataFrame",
       "ref": "9d3c43cf-fc3f-43fa-88bb-7883facc653f",
       "rows": [
        [
         "0",
         "Policy Type",
         "100.0",
         "Compliant"
        ],
        [
         "1",
         "Approved By",
         "100.0",
         "Compliant"
        ],
        [
         "2",
         "Date Policy Took Effect",
         "100.0",
         "Compliant"
        ],
        [
         "3",
         "Last Approved Revision",
         "100.0",
         "Compliant"
        ],
        [
         "4",
         "Sponsor",
         "100.0",
         "Compliant"
        ],
        [
         "5",
         "Responsible Office",
         "100.0",
         "Partially Compliant"
        ]
       ],
       "shape": {
        "columns": 3,
        "rows": 6
       }
      },
      "text/html": [
       "<div>\n",
       "<style scoped>\n",
       "    .dataframe tbody tr th:only-of-type {\n",
       "        vertical-align: middle;\n",
       "    }\n",
       "\n",
       "    .dataframe tbody tr th {\n",
       "        vertical-align: top;\n",
       "    }\n",
       "\n",
       "    .dataframe thead th {\n",
       "        text-align: right;\n",
       "    }\n",
       "</style>\n",
       "<table border=\"1\" class=\"dataframe\">\n",
       "  <thead>\n",
       "    <tr style=\"text-align: right;\">\n",
       "      <th></th>\n",
       "      <th>Metadata Field</th>\n",
       "      <th>Completeness Rate</th>\n",
       "      <th>Compliance Status</th>\n",
       "    </tr>\n",
       "  </thead>\n",
       "  <tbody>\n",
       "    <tr>\n",
       "      <th>0</th>\n",
       "      <td>Policy Type</td>\n",
       "      <td>100.0</td>\n",
       "      <td>Compliant</td>\n",
       "    </tr>\n",
       "    <tr>\n",
       "      <th>1</th>\n",
       "      <td>Approved By</td>\n",
       "      <td>100.0</td>\n",
       "      <td>Compliant</td>\n",
       "    </tr>\n",
       "    <tr>\n",
       "      <th>2</th>\n",
       "      <td>Date Policy Took Effect</td>\n",
       "      <td>100.0</td>\n",
       "      <td>Compliant</td>\n",
       "    </tr>\n",
       "    <tr>\n",
       "      <th>3</th>\n",
       "      <td>Last Approved Revision</td>\n",
       "      <td>100.0</td>\n",
       "      <td>Compliant</td>\n",
       "    </tr>\n",
       "    <tr>\n",
       "      <th>4</th>\n",
       "      <td>Sponsor</td>\n",
       "      <td>100.0</td>\n",
       "      <td>Compliant</td>\n",
       "    </tr>\n",
       "    <tr>\n",
       "      <th>5</th>\n",
       "      <td>Responsible Office</td>\n",
       "      <td>100.0</td>\n",
       "      <td>Partially Compliant</td>\n",
       "    </tr>\n",
       "  </tbody>\n",
       "</table>\n",
       "</div>"
      ],
      "text/plain": [
       "            Metadata Field  Completeness Rate    Compliance Status\n",
       "0              Policy Type              100.0            Compliant\n",
       "1              Approved By              100.0            Compliant\n",
       "2  Date Policy Took Effect              100.0            Compliant\n",
       "3   Last Approved Revision              100.0            Compliant\n",
       "4                  Sponsor              100.0            Compliant\n",
       "5       Responsible Office              100.0  Partially Compliant"
      ]
     },
     "execution_count": 10,
     "metadata": {},
     "output_type": "execute_result"
    }
   ],
   "source": [
    "total_policies = 0\n",
    "policy_type_counts = 0\n",
    "approved_by_counts = 0\n",
    "date_polcy_counts = 0\n",
    "date_approved_counts = 0\n",
    "sponsor_counts = 0\n",
    "responsible_counts = 0\n",
    "\n",
    "\n",
    "# import beautifulsoup\n",
    "from bs4 import BeautifulSoup\n",
    "\n",
    "\n",
    "for policy_type in data:\n",
    "    for policy in data[policy_type]:\n",
    "        total_policies += 1\n",
    "        file_path = \".\" + policy[\"url\"]\n",
    "        # file_path = '../output/html/Guidelines/Academic_Staff_Recruitment_Process_Guidelines.html'\n",
    "        # open html file from file path\n",
    "        with open(file_path, \"r\") as f:\n",
    "            html = f.read()\n",
    "            soup = BeautifulSoup(html, \"html.parser\")\n",
    "            # Extract first column values (th elements)\n",
    "            ths = soup.find_all(\"th\")\n",
    "            for th in soup.find_all(\"th\"):\n",
    "                # check  if either Category, Type, Approved by, Date Guideline Took Effect, Last approved revision, Sponsor or Responsible Office is in the th element\n",
    "\n",
    "                if \"category\" in th.get_text(strip=True).lower():\n",
    "                    policy_type_counts += 1\n",
    "                if \"approved by\" in th.get_text(strip=True).lower():\n",
    "                    approved_by_counts += 1\n",
    "                if \"took effect\" in th.get_text(strip=True).lower():\n",
    "                    date_polcy_counts += 1\n",
    "                if \"last approved revision\" in th.get_text(strip=True).lower():\n",
    "                    date_approved_counts += 1\n",
    "                if \"sponsor\" in th.get_text(strip=True).lower():\n",
    "                    sponsor_counts += 1\n",
    "                if \"responsible office\" in th.get_text(strip=True).lower():\n",
    "                    responsible_counts += 1\n",
    "\n",
    "        # Create metadata_completeness dataframe and structure_consistency dataframe\n",
    "\n",
    "metadata_completeness = {\n",
    "    \"Metadata Field\": [\n",
    "        \"Policy Type\",\n",
    "        \"Approved By\",\n",
    "        \"Date Policy Took Effect\",\n",
    "        \"Last Approved Revision\",\n",
    "        \"Sponsor\",\n",
    "        \"Responsible Office\",\n",
    "    ],\n",
    "    \"Completeness Rate\": [\n",
    "        round(policy_type_counts / total_policies * 100, 0),\n",
    "        round(approved_by_counts / total_policies * 100, 0),\n",
    "        round(date_polcy_counts / total_policies * 100, 0),\n",
    "        round(date_approved_counts / total_policies * 100, 0),\n",
    "        round(sponsor_counts / total_policies * 100, 0),\n",
    "        round(responsible_counts / total_policies * 100, 0),\n",
    "    ],\n",
    "    \"Compliance Status\": [\n",
    "        \"Non-Compliant\" if x < 0.75\n",
    "        else (\"Compliant\" if x >= 1.0 else \"Partially Compliant\")\n",
    "        for x in [\n",
    "            policy_type_counts / total_policies,\n",
    "            approved_by_counts / total_policies,\n",
    "            date_polcy_counts / total_policies,\n",
    "            date_approved_counts / total_policies,\n",
    "            sponsor_counts / total_policies,\n",
    "            responsible_counts / total_policies,\n",
    "        ]\n",
    "    ],\n",
    "}\n",
    "\n",
    "df_metadata_completeness = pd.DataFrame(metadata_completeness)\n",
    "df_metadata_completeness\n",
    "\n"
   ]
  },
  {
   "cell_type": "code",
   "execution_count": 11,
   "metadata": {},
   "outputs": [
    {
     "data": {
      "application/vnd.microsoft.datawrangler.viewer.v0+json": {
       "columns": [
        {
         "name": "index",
         "rawType": "int64",
         "type": "integer"
        },
        {
         "name": "Policy Type",
         "rawType": "object",
         "type": "string"
        },
        {
         "name": "Purpose Missing Rate",
         "rawType": "float64",
         "type": "float"
        },
        {
         "name": "Scope Missing Rate",
         "rawType": "float64",
         "type": "float"
        },
        {
         "name": "Content Missing Rate",
         "rawType": "float64",
         "type": "float"
        },
        {
         "name": "Total Policies",
         "rawType": "int64",
         "type": "integer"
        }
       ],
       "conversionMethod": "pd.DataFrame",
       "ref": "b5680008-39da-49be-ac9f-4f61fa3e1698",
       "rows": [
        [
         "0",
         "Guidelines",
         "0.0",
         "0.0",
         "0.0",
         "54"
        ],
        [
         "1",
         "Plans & Strategies",
         "0.0",
         "100.0",
         "100.0",
         "2"
        ],
        [
         "2",
         "Policies",
         "0.0",
         "4.0",
         "0.0",
         "119"
        ],
        [
         "3",
         "Procedures",
         "0.0",
         "15.0",
         "0.0",
         "61"
        ],
        [
         "4",
         "Regulations",
         "78.0",
         "89.0",
         "0.0",
         "9"
        ],
        [
         "5",
         "Statutes",
         "91.0",
         "100.0",
         "0.0",
         "11"
        ]
       ],
       "shape": {
        "columns": 5,
        "rows": 6
       }
      },
      "text/html": [
       "<div>\n",
       "<style scoped>\n",
       "    .dataframe tbody tr th:only-of-type {\n",
       "        vertical-align: middle;\n",
       "    }\n",
       "\n",
       "    .dataframe tbody tr th {\n",
       "        vertical-align: top;\n",
       "    }\n",
       "\n",
       "    .dataframe thead th {\n",
       "        text-align: right;\n",
       "    }\n",
       "</style>\n",
       "<table border=\"1\" class=\"dataframe\">\n",
       "  <thead>\n",
       "    <tr style=\"text-align: right;\">\n",
       "      <th></th>\n",
       "      <th>Policy Type</th>\n",
       "      <th>Purpose Missing Rate</th>\n",
       "      <th>Scope Missing Rate</th>\n",
       "      <th>Content Missing Rate</th>\n",
       "      <th>Total Policies</th>\n",
       "    </tr>\n",
       "  </thead>\n",
       "  <tbody>\n",
       "    <tr>\n",
       "      <th>0</th>\n",
       "      <td>Guidelines</td>\n",
       "      <td>0.0</td>\n",
       "      <td>0.0</td>\n",
       "      <td>0.0</td>\n",
       "      <td>54</td>\n",
       "    </tr>\n",
       "    <tr>\n",
       "      <th>1</th>\n",
       "      <td>Plans &amp; Strategies</td>\n",
       "      <td>0.0</td>\n",
       "      <td>100.0</td>\n",
       "      <td>100.0</td>\n",
       "      <td>2</td>\n",
       "    </tr>\n",
       "    <tr>\n",
       "      <th>2</th>\n",
       "      <td>Policies</td>\n",
       "      <td>0.0</td>\n",
       "      <td>4.0</td>\n",
       "      <td>0.0</td>\n",
       "      <td>119</td>\n",
       "    </tr>\n",
       "    <tr>\n",
       "      <th>3</th>\n",
       "      <td>Procedures</td>\n",
       "      <td>0.0</td>\n",
       "      <td>15.0</td>\n",
       "      <td>0.0</td>\n",
       "      <td>61</td>\n",
       "    </tr>\n",
       "    <tr>\n",
       "      <th>4</th>\n",
       "      <td>Regulations</td>\n",
       "      <td>78.0</td>\n",
       "      <td>89.0</td>\n",
       "      <td>0.0</td>\n",
       "      <td>9</td>\n",
       "    </tr>\n",
       "    <tr>\n",
       "      <th>5</th>\n",
       "      <td>Statutes</td>\n",
       "      <td>91.0</td>\n",
       "      <td>100.0</td>\n",
       "      <td>0.0</td>\n",
       "      <td>11</td>\n",
       "    </tr>\n",
       "  </tbody>\n",
       "</table>\n",
       "</div>"
      ],
      "text/plain": [
       "          Policy Type  Purpose Missing Rate  Scope Missing Rate  \\\n",
       "0          Guidelines                   0.0                 0.0   \n",
       "1  Plans & Strategies                   0.0               100.0   \n",
       "2            Policies                   0.0                 4.0   \n",
       "3          Procedures                   0.0                15.0   \n",
       "4         Regulations                  78.0                89.0   \n",
       "5            Statutes                  91.0               100.0   \n",
       "\n",
       "   Content Missing Rate  Total Policies  \n",
       "0                   0.0              54  \n",
       "1                 100.0               2  \n",
       "2                   0.0             119  \n",
       "3                   0.0              61  \n",
       "4                   0.0               9  \n",
       "5                   0.0              11  "
      ]
     },
     "execution_count": 11,
     "metadata": {},
     "output_type": "execute_result"
    }
   ],
   "source": [
    "\n",
    "\n",
    "structural_consistency = []\n",
    "\n",
    "for policy_type in data:\n",
    "    purpose_counts = 0\n",
    "    scope_counts = 0\n",
    "    content_counts = 0\n",
    "    total_policies = 0\n",
    "    for policy in data[policy_type]:\n",
    "        total_policies += 1\n",
    "        file_path = \".\" + policy[\"url\"]\n",
    "        # file_path = '../output/html/Guidelines/Academic_Staff_Recruitment_Process_Guidelines.html'\n",
    "        # open html file from file path\n",
    "        with open(file_path, \"r\") as f:\n",
    "            html = f.read()\n",
    "            soup = BeautifulSoup(html, \"html.parser\")\n",
    "            # Loop through each h2 or h3 header and check if it contains 'purpose', 'scope', or 'content'\n",
    "            for header in soup.find_all([\"h2\", \"h3\"]):\n",
    "                if \"purpose\" in header.get_text(strip=True).lower():\n",
    "                    purpose_counts += 1\n",
    "                if \"scope\" in header.get_text(strip=True).lower():\n",
    "                    scope_counts += 1\n",
    "                if \"content\" in header.get_text(strip=True).lower():\n",
    "                    content_counts += 1\n",
    "    \n",
    "    structural_consistency.append(\n",
    "        [\n",
    "            policy_type,\n",
    "            100 - round(purpose_counts / total_policies * 100, 0) if 100 - round(purpose_counts / total_policies * 100, 0) > 0 else 0,\n",
    "            100 - round(scope_counts / total_policies * 100, 0) if 100 - round(scope_counts / total_policies * 100, 0) > 0 else 0,\n",
    "            100 - round(content_counts / total_policies * 100, 0) if 100 - round(content_counts / total_policies * 100, 0) > 0 else 0,\n",
    "            total_policies\n",
    "        ]\n",
    "    )\n",
    "    \n",
    "df_structural_consistency = pd.DataFrame(\n",
    "    structural_consistency,\n",
    "    columns=[\n",
    "        \"Policy Type\",\n",
    "        \"Purpose Missing Rate\",\n",
    "        \"Scope Missing Rate\",\n",
    "        \"Content Missing Rate\",\n",
    "        \"Total Policies\",\n",
    "    ],\n",
    ")\n",
    "df_structural_consistency"
   ]
  }
 ],
 "metadata": {
  "kernelspec": {
   "display_name": "policy-analysis",
   "language": "python",
   "name": "python3"
  },
  "language_info": {
   "codemirror_mode": {
    "name": "ipython",
    "version": 3
   },
   "file_extension": ".py",
   "mimetype": "text/x-python",
   "name": "python",
   "nbconvert_exporter": "python",
   "pygments_lexer": "ipython3",
   "version": "3.12.9"
  }
 },
 "nbformat": 4,
 "nbformat_minor": 2
}
