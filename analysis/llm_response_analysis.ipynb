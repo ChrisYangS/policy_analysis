{
 "cells": [
  {
   "cell_type": "markdown",
   "metadata": {},
   "source": [
    "## In this section, we will randomly select some llm response from each policy types and analyze the quality of the response.\n"
   ]
  },
  {
   "cell_type": "code",
   "execution_count": 79,
   "metadata": {},
   "outputs": [],
   "source": [
    "import json\n",
    "import random\n",
    "from IPython.display import Markdown, display\n"
   ]
  },
  {
   "cell_type": "markdown",
   "metadata": {},
   "source": [
    "### First of all, initialize all questions asked to the llm model.\n"
   ]
  },
  {
   "cell_type": "code",
   "execution_count": 80,
   "metadata": {},
   "outputs": [],
   "source": [
    "q1 = \"Please list all policies that contain unnecessary content such as cross-references to other policies (there's a space for this in the policy documents, but not in the words of the policy itself)?\"\n",
    "\n",
    "q2 = \"Please list all policies that contain parts that are actually Procedures, not Policies (e.g. they contain instructions on how to do something, rather than rules or principles)?\"\n",
    "\n",
    "q3 = \"Please list all policies that contain inconsistencies or structural flaws. For example, if a policy is missing a section that is present in other policies, or if a policy has a section that is not relevant to the policy type?\"\n",
    "\n",
    "q4 = \"Please list all redundancy or incorrect structure of policy. It could be that there's a better way to structure the policy database, or that some policies are redundant or overlapping?\"\n"
   ]
  },
  {
   "cell_type": "markdown",
   "metadata": {},
   "source": [
    "### Then start to randomly select some responses from each policy type and analyze the quality of the response.\n",
    "\n",
    "Below is a function I created to print the response from the llm model in a more readable markdown format."
   ]
  },
  {
   "cell_type": "code",
   "execution_count": 81,
   "metadata": {},
   "outputs": [],
   "source": [
    "# Randomly select two responses from regulations\n",
    "def print_llm_response(policy_type):\n",
    "    with open(f\"./{policy_type}_llama3_2.json\") as f:\n",
    "        data = json.load(f)\n",
    "    # set seed\n",
    "    random.seed(1)\n",
    "    # randomly select two responses\n",
    "    response1 = random.choice(data)\n",
    "    random.seed(99)\n",
    "    response2 = random.choice(data)\n",
    "\n",
    "    location1 = f\"../output/html/{policy_type}/{response1['name']}.html\"\n",
    "    location2 = f\"../output/html/{policy_type}/{response2['name']}.html\"\n",
    "\n",
    "    \n",
    "    display(\n",
    "        Markdown(\n",
    "            f\"## Responses are based on the first sample policy {response1['name']} from selected {policy_type}:\\n\\n\"\n",
    "        )\n",
    "    )\n",
    "\n",
    "    display(Markdown(response1[\"q1_response\"] + \"\\n\"))\n",
    "    display(Markdown(\"### The response from LLM regarding the second question is:\\n\"))\n",
    "    display(Markdown(response1[\"q2_response\"] + \"\\n\"))\n",
    "    display(Markdown(\"### The response from LLM regarding the third question is:\\n\"))\n",
    "    display(Markdown(response1[\"q3_response\"] + \"\\n\"))\n",
    "    display(Markdown(\"### The response from LLM regarding the fourth question is:\\n\"))\n",
    "    display(Markdown(response1[\"q4_response\"] + \"\\n\"))\n",
    "    \n",
    "    display(\n",
    "        Markdown(\n",
    "            f\"## Responses are based on the second sample policy {response2['name']} from selected {policy_type}:\\n\\n\"\n",
    "        )\n",
    "    )\n",
    "    display(Markdown(response2[\"q1_response\"] + \"\\n\"))\n",
    "    display(Markdown(\"### The response from LLM regarding the second question is:\\n\"))\n",
    "    display(Markdown(response2[\"q2_response\"] + \"\\n\"))\n",
    "    display(Markdown(\"### The response from LLM regarding the third question is:\\n\"))\n",
    "    display(Markdown(response2[\"q3_response\"] + \"\\n\"))\n",
    "    display(Markdown(\"### The response from LLM regarding the fourth question is:\\n\"))\n",
    "    display(Markdown(response2[\"q4_response\"] + \"\\n\"))\n",
    "\n",
    "    \n",
    "    display(Markdown(f\"**{response1['name']} policy can be found [here]({location1})**\\n\"))\n",
    "    display(Markdown(f\"**{response2['name']} policy can be found [here]({location2})**\\n\"))"
   ]
  },
  {
   "cell_type": "markdown",
   "metadata": {},
   "source": [
    "#### Firstly, print 2 randomly selected responses from Plans_Strategies policy type."
   ]
  },
  {
   "cell_type": "code",
   "execution_count": 82,
   "metadata": {},
   "outputs": [
    {
     "data": {
      "text/markdown": [
       "## Responses are based on the first sample policy Emergency_Management_Plan from selected Plans_Strategies:\n",
       "\n"
      ],
      "text/plain": [
       "<IPython.core.display.Markdown object>"
      ]
     },
     "metadata": {},
     "output_type": "display_data"
    },
    {
     "data": {
      "text/markdown": [
       "I haven't read all the data yet. Please provide the entire JSON format data showing the policy records, and I'll be happy to assist you once I've reviewed it thoroughly.\n"
      ],
      "text/plain": [
       "<IPython.core.display.Markdown object>"
      ]
     },
     "metadata": {},
     "output_type": "display_data"
    },
    {
     "data": {
      "text/markdown": [
       "### The response from LLM regarding the second question is:\n"
      ],
      "text/plain": [
       "<IPython.core.display.Markdown object>"
      ]
     },
     "metadata": {},
     "output_type": "display_data"
    },
    {
     "data": {
      "text/markdown": [
       "I don't see any additional policy records in the provided JSON data. The text only contains one record with a name that suggests it's an emergency management plan, but without more information, I'm unable to determine if it's a procedure or not.\n",
       "\n",
       "Please provide the entire JSON format data showing all policy records, and I'll be happy to assist you once I've reviewed it thoroughly.\n"
      ],
      "text/plain": [
       "<IPython.core.display.Markdown object>"
      ]
     },
     "metadata": {},
     "output_type": "display_data"
    },
    {
     "data": {
      "text/markdown": [
       "### The response from LLM regarding the third question is:\n"
      ],
      "text/plain": [
       "<IPython.core.display.Markdown object>"
      ]
     },
     "metadata": {},
     "output_type": "display_data"
    },
    {
     "data": {
      "text/markdown": [
       "Based on the provided JSON data, here are some policies that contain inconsistencies or structural flaws:\n",
       "\n",
       "1. Missing scope: The 'Emergency_Management_Plan' policy is missing a clear scope section. It only contains a generic text indicating that the scope is \"Organisational scope not found\", which is not sufficient.\n",
       "2. Missing content description: Like the scope, the content of the 'Emergency_Management_Plan' policy also lacks a descriptive text. A brief description of what the policy content refers to would be beneficial.\n",
       "3. Inconsistent format for responses: The 'q1_response' and 'q2_response' sections appear to be additional comments or questions from a user. They do not conform to the standard policy data structure, which suggests that they might be out-of-place or intended for human review rather than automated processing.\n",
       "\n",
       "However, without more information or additional policy records, it's difficult to make a comprehensive assessment of all policies in the JSON data.\n"
      ],
      "text/plain": [
       "<IPython.core.display.Markdown object>"
      ]
     },
     "metadata": {},
     "output_type": "display_data"
    },
    {
     "data": {
      "text/markdown": [
       "### The response from LLM regarding the fourth question is:\n"
      ],
      "text/plain": [
       "<IPython.core.display.Markdown object>"
      ]
     },
     "metadata": {},
     "output_type": "display_data"
    },
    {
     "data": {
      "text/markdown": [
       "Based on the provided JSON data showing one policy document record, here are some redundancy or incorrect structures that I found:\n",
       "\n",
       "1. **Missing scope**: The 'Emergency_Management_Plan' policy is missing a clear scope section.\n",
       "2. **Missing content description**: Like the scope, the content of the 'Emergency_Management_Plan' policy also lacks a descriptive text.\n",
       "3. **Inconsistent format for responses**: The 'q1_response' and 'q2_response' sections appear to be additional comments or questions from a user, which do not conform to the standard policy data structure.\n",
       "\n",
       "There is no indication of redundancy or overlapping policies in this single record. However, it's worth noting that there is only one policy document record provided, so without more information, it's difficult to make a comprehensive assessment of all policies in the JSON data.\n"
      ],
      "text/plain": [
       "<IPython.core.display.Markdown object>"
      ]
     },
     "metadata": {},
     "output_type": "display_data"
    },
    {
     "data": {
      "text/markdown": [
       "## Responses are based on the second sample policy Equity_and_Diversity_Strategic_Framework_and_Action_Plan_2023_2030_Te_Rautaki_Ararau_Tōkeke from selected Plans_Strategies:\n",
       "\n"
      ],
      "text/plain": [
       "<IPython.core.display.Markdown object>"
      ]
     },
     "metadata": {},
     "output_type": "display_data"
    },
    {
     "data": {
      "text/markdown": [
       "I don't see any policy data in your message. Please provide the JSON format data, and I'll be happy to help you identify policies with unnecessary content such as cross-references to other policies.\n"
      ],
      "text/plain": [
       "<IPython.core.display.Markdown object>"
      ]
     },
     "metadata": {},
     "output_type": "display_data"
    },
    {
     "data": {
      "text/markdown": [
       "### The response from LLM regarding the second question is:\n"
      ],
      "text/plain": [
       "<IPython.core.display.Markdown object>"
      ]
     },
     "metadata": {},
     "output_type": "display_data"
    },
    {
     "data": {
      "text/markdown": [
       "Unfortunately, it looks like there is no JSON data provided in your message. The text seems to be a truncated snippet from the original JSON data. \n",
       "\n",
       "However, based on the structure of the data shown at the end, I can help you with that:\n",
       "\n",
       "The only policy document record present in this truncated data is the one which has the name 'Equity_and_Diversity_Strategic_Framework_and_Action_Plan_2023_2030_Te_Rautaki_Ararau_Tōkeke'. \n",
       "\n",
       "Assuming this is the complete JSON data, I can help you identify policies that contain parts that are actually Procedures, not Policies.\n",
       "\n",
       "Could you please provide the complete JSON format data?\n"
      ],
      "text/plain": [
       "<IPython.core.display.Markdown object>"
      ]
     },
     "metadata": {},
     "output_type": "display_data"
    },
    {
     "data": {
      "text/markdown": [
       "### The response from LLM regarding the third question is:\n"
      ],
      "text/plain": [
       "<IPython.core.display.Markdown object>"
      ]
     },
     "metadata": {},
     "output_type": "display_data"
    },
    {
     "data": {
      "text/markdown": [
       "Unfortunately, it seems like the provided policy data is truncated and does not show any policy records. However, based on the structure of the truncated data shown at the end, I can help you identify policies that contain parts that are actually Procedures, not Policies.\n",
       "\n",
       "Here's a revised attempt to answer your question:\n",
       "\n",
       "Based on the incomplete JSON data, it appears that there is only one policy document record present. This record has an inconsistent 'scope' field which does not provide any information about the organizational scope of the policy.\n"
      ],
      "text/plain": [
       "<IPython.core.display.Markdown object>"
      ]
     },
     "metadata": {},
     "output_type": "display_data"
    },
    {
     "data": {
      "text/markdown": [
       "### The response from LLM regarding the fourth question is:\n"
      ],
      "text/plain": [
       "<IPython.core.display.Markdown object>"
      ]
     },
     "metadata": {},
     "output_type": "display_data"
    },
    {
     "data": {
      "text/markdown": [
       "After analyzing the provided JSON data, here are some observations and potential issues:\n",
       "\n",
       "1. **Incomplete policy records**: The provided data seems to be truncated, with only one policy document record present. It's unclear what happened to the other policies or if they were intentionally removed.\n",
       "\n",
       "2. **Inconsistent 'scope' field**: The 'scope' field in the single policy record is empty ('Organisational scope not found'). This makes it difficult to determine the organizational scope of this particular policy.\n",
       "\n",
       "3. **Missing 'content' field**: The 'content' field is also missing from the provided data, which is unusual since the name of a policy typically implies that there will be content associated with it.\n",
       "\n",
       "4. **Unclear redundancy or overlap**: Without more complete data, it's challenging to determine if any policies are redundant or overlapping. However, identifying procedures within policies is possible based on the truncated structure shown at the end.\n",
       "\n",
       "5. **Potential for unnecessary cross-references**: The incomplete data doesn't provide enough context to assess whether there are unnecessary cross-references to other policies within this single record.\n",
       "\n",
       "6. **Organizational scope not defined**: Since the 'scope' field is empty, it's unclear what specific aspects of an organization this policy applies to or which departments/staff members should be aware of its details.\n",
       "\n",
       "7. **Better structure**: If complete data were available, a better structure for the policy database could involve organizing policies by category (e.g., equity, diversity, strategic frameworks), with clear hierarchies and subcategories to facilitate navigation and understanding of each policy's scope and content.\n",
       "\n",
       "8. **Procedures vs. Policies**: The provided data doesn't give a clear indication which parts are procedures and which are actual policies. Procedures typically involve specific steps or guidelines for implementation, while policies often outline the overall direction or principles guiding an organization's behavior.\n",
       "\n",
       "To provide more concrete answers, it would be necessary to receive the complete JSON format data containing all policy documents and their associated details.\n"
      ],
      "text/plain": [
       "<IPython.core.display.Markdown object>"
      ]
     },
     "metadata": {},
     "output_type": "display_data"
    },
    {
     "data": {
      "text/markdown": [
       "**Emergency_Management_Plan policy can be found [here](../output/html/Plans_Strategies/Emergency_Management_Plan.html)**\n"
      ],
      "text/plain": [
       "<IPython.core.display.Markdown object>"
      ]
     },
     "metadata": {},
     "output_type": "display_data"
    },
    {
     "data": {
      "text/markdown": [
       "**Equity_and_Diversity_Strategic_Framework_and_Action_Plan_2023_2030_Te_Rautaki_Ararau_Tōkeke policy can be found [here](../output/html/Plans_Strategies/Equity_and_Diversity_Strategic_Framework_and_Action_Plan_2023_2030_Te_Rautaki_Ararau_Tōkeke.html)**\n"
      ],
      "text/plain": [
       "<IPython.core.display.Markdown object>"
      ]
     },
     "metadata": {},
     "output_type": "display_data"
    }
   ],
   "source": [
    "print_llm_response(\"Plans_Strategies\")"
   ]
  },
  {
   "cell_type": "markdown",
   "metadata": {},
   "source": [
    "#### Secondly, print 2 randomly selected responses from Policies policy type."
   ]
  },
  {
   "cell_type": "code",
   "execution_count": 83,
   "metadata": {},
   "outputs": [
    {
     "data": {
      "text/markdown": [
       "## Responses are based on the first sample policy Open_Access_Policy from selected Policies:\n",
       "\n"
      ],
      "text/plain": [
       "<IPython.core.display.Markdown object>"
      ]
     },
     "metadata": {},
     "output_type": "display_data"
    },
    {
     "data": {
      "text/markdown": [
       "After analyzing the policy document, I found one section with unnecessary content which appears to be a cross-reference to another policy:\n",
       "\n",
       "* The phrase \"or other researchers\" is mentioned in the following sentence: \"Staff and students – especially those in disciplines with strong links to government agencies or the community – are encouraged to make University-generated research outputs, ideas and knowledge available, without barriers to their reuse by the public or other researchers.\"\n",
       "\n",
       "However, there is also another instance which is repeated:\n",
       "\n",
       "* The phrase \"or who wish to use our work in their own teaching and research without legal or technical barriers\" is mentioned twice.\n",
       "\n",
       "It appears that these are cross-references to policies on access to University of Otago scholarship.\n"
      ],
      "text/plain": [
       "<IPython.core.display.Markdown object>"
      ]
     },
     "metadata": {},
     "output_type": "display_data"
    },
    {
     "data": {
      "text/markdown": [
       "### The response from LLM regarding the second question is:\n"
      ],
      "text/plain": [
       "<IPython.core.display.Markdown object>"
      ]
     },
     "metadata": {},
     "output_type": "display_data"
    },
    {
     "data": {
      "text/markdown": [
       "Based on the provided policy data, I did not find any section that contains instructions on how to do something. However, there are sections that contain procedures or guidelines for certain actions, such as:\n",
       "\n",
       "* Section 2: Intellectual property - This section outlines the process for managing and protecting intellectual property rights.\n",
       "* Section 3: Open Access to University of Otago scholarship - This section provides recommendations for staff and students on how to publish their work in open access journals and repositories.\n",
       "\n",
       "These sections are more procedural in nature, outlining specific actions or guidelines that need to be followed.\n"
      ],
      "text/plain": [
       "<IPython.core.display.Markdown object>"
      ]
     },
     "metadata": {},
     "output_type": "display_data"
    },
    {
     "data": {
      "text/markdown": [
       "### The response from LLM regarding the third question is:\n"
      ],
      "text/plain": [
       "<IPython.core.display.Markdown object>"
      ]
     },
     "metadata": {},
     "output_type": "display_data"
    },
    {
     "data": {
      "text/markdown": [
       "Based on the provided policy data, I have identified the following policies that contain inconsistencies or structural flaws:\n",
       "\n",
       "1. The repeated use of phrases \"or other researchers\" and \"who wish to use our work in their own teaching and research without legal or technical barriers\". These phrases seem to be cross-references to policies on access to University of Otago scholarship, but they are not clearly linked to any specific policy.\n",
       "\n",
       "2. Section 3: Open Access to University of Otago scholarship could be more specific and detailed in its recommendations for staff and students. While it provides some general guidelines, it would be beneficial to have more concrete instructions on how to publish work in open access journals and repositories.\n",
       "\n",
       "3. The phrase \"fosters the sharing and spread of knowledge and accelerates the progress of discovery\" is used in Section 1: General principles. However, this statement seems to be more applicable to a policy on research funding or innovation, rather than an open access policy.\n",
       "\n",
       "4. There is no clear indication of what constitutes \"stable, non-commercial repositories\" mentioned in Section 3: Open Access to University of Otago scholarship. It would be beneficial to have a clearer definition of what these repositories are and how they should be used.\n",
       "\n",
       "Overall, while the provided policy data seems well-structured, there are some areas that could be improved upon to make it more effective and clear.\n"
      ],
      "text/plain": [
       "<IPython.core.display.Markdown object>"
      ]
     },
     "metadata": {},
     "output_type": "display_data"
    },
    {
     "data": {
      "text/markdown": [
       "### The response from LLM regarding the fourth question is:\n"
      ],
      "text/plain": [
       "<IPython.core.display.Markdown object>"
      ]
     },
     "metadata": {},
     "output_type": "display_data"
    },
    {
     "data": {
      "text/markdown": [
       "Based on the provided policy data, here are the identified redundancies or incorrect structures:\n",
       "\n",
       "1. **Redundant phrases**: The phrase \"or other researchers\" is repeated in Section 1: General principles without being clearly linked to any specific policy.\n",
       "2. **Duplicate language**: The phrase \"who wish to use our work in their own teaching and research without legal or technical barriers\" appears twice in Section 1: General principles with no clear connection to any specific policy.\n",
       "3. **Inconsistent scope**: The statement \"Predominantly this will apply to peer-reviewed research publications, particularly journal articles...\" in Section 1: General principles seems more applicable to a policy on research funding or innovation rather than an open access policy.\n",
       "4. **Ambiguous terminology**: The term \"stable, non-commercial repositories\" in Section 3: Open Access to University of Otago scholarship is not clearly defined, and it would be beneficial to have a clearer definition.\n",
       "5. **Lack of specificity**: Section 3: Open Access to University of Otago scholarship provides general guidelines for staff and students but lacks concrete instructions on how to publish work in open access journals and repositories.\n",
       "\n",
       "Overall, the policy data seems well-structured, but there are areas that could be improved upon to make it more effective and clear.\n"
      ],
      "text/plain": [
       "<IPython.core.display.Markdown object>"
      ]
     },
     "metadata": {},
     "output_type": "display_data"
    },
    {
     "data": {
      "text/markdown": [
       "## Responses are based on the second sample policy Intellectual_Property_Rights_of_Graduate_Research_Students_Policy from selected Policies:\n",
       "\n"
      ],
      "text/plain": [
       "<IPython.core.display.Markdown object>"
      ]
     },
     "metadata": {},
     "output_type": "display_data"
    },
    {
     "data": {
      "text/markdown": [
       "After reviewing the policy data, I found that there are no policies with unnecessary content such as cross-references to other policies (i.e., hyperlinks or explicit references to other policy documents) in the text itself. However, it's worth noting that some sections do reference external resources and procedures, such as \"The University of Otago Intellectual Property Rights Policy (for staff)\" and \"Externally Sponsored Graduate Research Procedures\". These are likely references to supporting documents or other policies, but they are not included in the provided policy text itself.\n"
      ],
      "text/plain": [
       "<IPython.core.display.Markdown object>"
      ]
     },
     "metadata": {},
     "output_type": "display_data"
    },
    {
     "data": {
      "text/markdown": [
       "### The response from LLM regarding the second question is:\n"
      ],
      "text/plain": [
       "<IPython.core.display.Markdown object>"
      ]
     },
     "metadata": {},
     "output_type": "display_data"
    },
    {
     "data": {
      "text/markdown": [
       "Based on the provided policy data, I found that there is one policy section that contains procedures rather than rules or principles:\n",
       "\n",
       "* Section 3: \"Procedures\"\n",
       "    * Specifically:\n",
       "        + Signing an IP declaration when enrolling as thesis students in eVision\n",
       "        + Advising the Director, Research and Enterprise about potential commercial applicability of research results\n",
       "        + Identifying and registering prior IP in a statement of prior IP\n",
       "        + Maintaining full records of documentation related to IP creation\n",
       "        + Complying with contract terms and conditions for externally funded research\n",
       "\n",
       "These sections outline specific steps or actions that students and the University should take, which are procedural in nature.\n"
      ],
      "text/plain": [
       "<IPython.core.display.Markdown object>"
      ]
     },
     "metadata": {},
     "output_type": "display_data"
    },
    {
     "data": {
      "text/markdown": [
       "### The response from LLM regarding the third question is:\n"
      ],
      "text/plain": [
       "<IPython.core.display.Markdown object>"
      ]
     },
     "metadata": {},
     "output_type": "display_data"
    },
    {
     "data": {
      "text/markdown": [
       "Here is the analysis of the policy:\n",
       "\n",
       "**Redundancy**\n",
       "\n",
       "* There are no redundant sections or rules in the policy. Each section builds on previous ones to create a cohesive framework for intellectual property management.\n",
       "\n",
       "**Procedures vs. Rules**\n",
       "\n",
       "* Section 3: \"Procedures\" stands out as containing procedural steps rather than principles or rules. These procedures, such as signing an IP declaration and complying with contract terms, are important but may not be enforceable as rules in themselves.\n",
       "* However, the policy does have clear rules and principles in sections 4-7, which outline the distribution of income from intellectual property, cessation of study, redress, and external research contracts.\n",
       "\n",
       "**External Resources**\n",
       "\n",
       "* The policy references external resources, such as \"The University of Otago Intellectual Property Rights Policy (for staff)\" and \"Externally Sponsored Graduate Research Procedures.\" While these are not included in the provided text, they may be useful supplementary materials.\n",
       "* There is no unnecessary content in the form of hyperlinks or explicit references to other policy documents.\n",
       "\n",
       "**Overall**\n",
       "\n",
       "* The policy appears to be well-structured and clear in its intent to manage intellectual property rights for University students.\n",
       "* The distinction between procedural steps (section 3) and rule-based sections (sections 4-7) helps to ensure that the policy is both practical and enforceable.\n"
      ],
      "text/plain": [
       "<IPython.core.display.Markdown object>"
      ]
     },
     "metadata": {},
     "output_type": "display_data"
    },
    {
     "data": {
      "text/markdown": [
       "### The response from LLM regarding the fourth question is:\n"
      ],
      "text/plain": [
       "<IPython.core.display.Markdown object>"
      ]
     },
     "metadata": {},
     "output_type": "display_data"
    },
    {
     "data": {
      "text/markdown": [
       "Based on the provided analysis, here are some potential suggestions for improvement:\n",
       "\n",
       "1. **Clarify the scope of the policy**: The policy seems to cover a broad range of intellectual property management aspects for University students. Consider adding a clear statement outlining the scope of the policy to avoid confusion.\n",
       "2. **Define key terms**: While the policy uses technical terms like \"percentage contribution\" and \"mutually agreeable,\" it would be helpful to define these terms explicitly to ensure clarity.\n",
       "3. **Provide more detailed guidance on procedural steps**: Section 3 contains some useful procedural steps, but they could be fleshed out with more detail or examples to make them easier to understand and implement.\n",
       "4. **Consider adding a glossary or FAQs**: To further clarify technical terms and concepts, consider adding a glossary or FAQs section to the policy.\n",
       "5. **Review and update regularly**: Intellectual property laws and regulations can change frequently. Regular review and updates would help ensure that the policy remains current and effective.\n",
       "\n",
       "Overall, the policy appears well-structured and clear in its intent. With some minor tweaks and additions, it could be even more effective at managing intellectual property rights for University students.\n"
      ],
      "text/plain": [
       "<IPython.core.display.Markdown object>"
      ]
     },
     "metadata": {},
     "output_type": "display_data"
    },
    {
     "data": {
      "text/markdown": [
       "**Open_Access_Policy policy can be found [here](../output/html/Policies/Open_Access_Policy.html)**\n"
      ],
      "text/plain": [
       "<IPython.core.display.Markdown object>"
      ]
     },
     "metadata": {},
     "output_type": "display_data"
    },
    {
     "data": {
      "text/markdown": [
       "**Intellectual_Property_Rights_of_Graduate_Research_Students_Policy policy can be found [here](../output/html/Policies/Intellectual_Property_Rights_of_Graduate_Research_Students_Policy.html)**\n"
      ],
      "text/plain": [
       "<IPython.core.display.Markdown object>"
      ]
     },
     "metadata": {},
     "output_type": "display_data"
    }
   ],
   "source": [
    "print_llm_response(\"Policies\")"
   ]
  },
  {
   "cell_type": "markdown",
   "metadata": {},
   "source": [
    "#### Thirdly, print 2 randomly selected responses from Policies policy type."
   ]
  },
  {
   "cell_type": "code",
   "execution_count": 84,
   "metadata": {},
   "outputs": [
    {
     "data": {
      "text/markdown": [
       "## Responses are based on the first sample policy Creditor_Invoice_Procedure from selected Procedures:\n",
       "\n"
      ],
      "text/plain": [
       "<IPython.core.display.Markdown object>"
      ]
     },
     "metadata": {},
     "output_type": "display_data"
    },
    {
     "data": {
      "text/markdown": [
       "Based on the provided JSON data, I have identified several policies with unnecessary content:\n",
       "\n",
       "1. 'Creditor_Invoice_Procedure':\n",
       "   - The policy contains cross-references to other policies (e.g., \"Schedule of Creditor Deadlines\" which is not part of this document). \n",
       "\n",
       "2. 'Overseas Creditor Invoices' seems like a separate and more focused document rather than a standard procedure, but it does not explicitly contain any cross-references.\n",
       "\n",
       "3. 'Querying an invoice' contains a cross-reference to another policy or contact (Email accounts@otago.ac.nz).\n",
       "\n",
       "4. 'Creditor payment method' also has unnecessary content as part of the overall process described in \"Creditor Invoice Procedure\", and it seems more like guidance than a separate procedure.\n",
       "\n",
       "5. The policy for 'Invoices v statements' appears redundant with some sections being covered under 'Creditor Invoice Procedure', however, one section mentions that Statements are not treated in the same way as invoices which could be interpreted as unnecessary content or a potential point of confusion.\n",
       "\n",
       "However, these are just my interpretations based on the data provided. The actual designation of \"unnecessary content\" would depend on the specific needs and goals of the policy document and how it is used in practice.\n"
      ],
      "text/plain": [
       "<IPython.core.display.Markdown object>"
      ]
     },
     "metadata": {},
     "output_type": "display_data"
    },
    {
     "data": {
      "text/markdown": [
       "### The response from LLM regarding the second question is:\n"
      ],
      "text/plain": [
       "<IPython.core.display.Markdown object>"
      ]
     },
     "metadata": {},
     "output_type": "display_data"
    },
    {
     "data": {
      "text/markdown": [
       "Based on the JSON data provided, the policies that contain parts that are actually Procedures, not Policies (i.e., they contain instructions on how to do something, rather than rules or principles), are:\n",
       "\n",
       "1. 'Creditor_Invoice_Procedure': This policy document contains procedures for processing creditor invoices and managing the payment process.\n",
       "2. 'Overseas Creditor Invoices': Although it seems like a separate document, its content appears to be more procedural instructions for paying overseas creditors.\n",
       "3. 'Querying an invoice': This policy provides guidance on how to handle queries related to invoices, which is a procedural instruction.\n",
       "\n",
       "The other policies mentioned in the q1_response JSON data are not included as part of the list because they either:\n",
       "\n",
       "* Contain cross-references to other policies (e.g., \"Schedule of Creditor Deadlines\")\n",
       "* Seem redundant with existing procedures (e.g., 'Invoices v statements')\n",
       "* Are more like guidance than separate procedures (e.g., 'Creditor payment method')\n"
      ],
      "text/plain": [
       "<IPython.core.display.Markdown object>"
      ]
     },
     "metadata": {},
     "output_type": "display_data"
    },
    {
     "data": {
      "text/markdown": [
       "### The response from LLM regarding the third question is:\n"
      ],
      "text/plain": [
       "<IPython.core.display.Markdown object>"
      ]
     },
     "metadata": {},
     "output_type": "display_data"
    },
    {
     "data": {
      "text/markdown": [
       "Based on the provided JSON data, here are the policies that contain inconsistencies or structural flaws:\n",
       "\n",
       "1. **Overseas Creditor Invoices**: This policy appears to be a standalone procedure document for paying overseas creditors, but its name suggests it could be part of a broader policy. However, upon reviewing the content, I agree with q2_response that it seems like a separate and more focused document rather than a standard procedure.\n",
       "\n",
       "2. **Querying an invoice**: This policy provides guidance on how to handle queries related to invoices, which is a procedural instruction. While not necessarily flawed, its name suggests it could be part of a broader policy or guideline.\n",
       "\n",
       "3. **Creditor payment method** and **Invoices v statements**: Both policies seem redundant with existing procedures (e.g., the process for handling creditor invoices in \"Creditor Invoice Procedure\"). The guidance on statements is already covered in \"Creditor Invoice Procedure\", making these two policies potentially unnecessary or redundant.\n",
       "\n",
       "These are my observations based on the provided data.\n"
      ],
      "text/plain": [
       "<IPython.core.display.Markdown object>"
      ]
     },
     "metadata": {},
     "output_type": "display_data"
    },
    {
     "data": {
      "text/markdown": [
       "### The response from LLM regarding the fourth question is:\n"
      ],
      "text/plain": [
       "<IPython.core.display.Markdown object>"
      ]
     },
     "metadata": {},
     "output_type": "display_data"
    },
    {
     "data": {
      "text/markdown": [
       "After reviewing the JSON data, I have identified the following redundancy or incorrect structure of policy:\n",
       "\n",
       "1. **Overseas Creditor Invoices**: As mentioned in q2_response and q3_response, this policy appears to be a standalone procedure document for paying overseas creditors. Its name suggests it could be part of a broader policy, but its content is self-contained.\n",
       "2. **Querying an invoice**: This policy provides guidance on how to handle queries related to invoices, which is a procedural instruction. While not necessarily flawed, its name suggests it could be part of a broader policy or guideline.\n",
       "3. **Creditor payment method** and **Invoices v statements**: Both policies seem redundant with existing procedures (e.g., the process for handling creditor invoices in \"Creditor Invoice Procedure\"). The guidance on statements is already covered in \"Creditor Invoice Procedure\", making these two policies potentially unnecessary or redundant.\n",
       "\n",
       "However, upon further review, I would like to add:\n",
       "\n",
       "4. **Querying an invoice** could be condensed or rephrased to make it clear that it's a procedural instruction rather than a separate policy. The sentence \"If an invoice should not be paid, the Accounts Payable Office must be notified immediately\" seems to be more of a guideline than a separate procedure.\n",
       "\n",
       "Additionally, I would suggest considering consolidating the guidance on statements into the existing \"Creditor Invoice Procedure\". This would eliminate the need for a separate policy and make the content more streamlined.\n"
      ],
      "text/plain": [
       "<IPython.core.display.Markdown object>"
      ]
     },
     "metadata": {},
     "output_type": "display_data"
    },
    {
     "data": {
      "text/markdown": [
       "## Responses are based on the second sample policy Accounting_Procedures_and_Rules from selected Procedures:\n",
       "\n"
      ],
      "text/plain": [
       "<IPython.core.display.Markdown object>"
      ]
     },
     "metadata": {},
     "output_type": "display_data"
    },
    {
     "data": {
      "text/markdown": [
       "After reviewing the policy data, I have identified several policies that contain unnecessary content such as cross-references to other policies (e.g., using a space for this in the policy documents but not in the words of the policy itself). Here are some examples:\n",
       "\n",
       "1. Policy 5: Accounting for Conference\n",
       "\t* The policy contains multiple instances of referencing Finance One and Revenue Management accounts, which seem to be separate systems within the University.\n",
       "2. Policy 6: T Activities (little T's)\n",
       "\t* The policy mentions that further information can be found in another email address (financial.accountant@otago.ac.nz), but does not explicitly state this in the text of the policy.\n",
       "\n",
       "These cross-references may be necessary for practical purposes, such as providing contact information or additional guidance. However, they do seem to serve no purpose other than to point to other policies or systems within the University.\n"
      ],
      "text/plain": [
       "<IPython.core.display.Markdown object>"
      ]
     },
     "metadata": {},
     "output_type": "display_data"
    },
    {
     "data": {
      "text/markdown": [
       "### The response from LLM regarding the second question is:\n"
      ],
      "text/plain": [
       "<IPython.core.display.Markdown object>"
      ]
     },
     "metadata": {},
     "output_type": "display_data"
    },
    {
     "data": {
      "text/markdown": [
       "Based on the provided JSON data, here are the policies that contain parts that are actually Procedures, not Policies:\n",
       "\n",
       "1. Policy 6: T Activities (little T's) - This policy contains specific procedures for updating the balance brought forward in period 1 and when the balance can be fully expended.\n",
       "\n",
       "2. q1_response - The response mentions that it has identified unnecessary content such as cross-references to other policies, but specifically highlights Policy 5: Accounting for Conference and Policy 6: T Activities (little T's) as examples of policies with unnecessary content.\n"
      ],
      "text/plain": [
       "<IPython.core.display.Markdown object>"
      ]
     },
     "metadata": {},
     "output_type": "display_data"
    },
    {
     "data": {
      "text/markdown": [
       "### The response from LLM regarding the third question is:\n"
      ],
      "text/plain": [
       "<IPython.core.display.Markdown object>"
      ]
     },
     "metadata": {},
     "output_type": "display_data"
    },
    {
     "data": {
      "text/markdown": [
       "I can help you summarize the information. \n",
       "\n",
       "The provided text appears to be a collection of university policies related to various topics such as accounting, conferences, trusts, and more. Here are some key points from each policy:\n",
       "\n",
       "1. **Accounting for Conferences**: This policy outlines procedures for handling conference-related transactions, including payment processing, invoicing, and GST compliance.\n",
       "2. **T Activities (little T's)**: This policy deals with tagged gifts and bequests, which are not trusts, and provides guidance on updating balances and expenditure.\n",
       "\n",
       "There is also a section on Q&A responses to two questions:\n",
       "\n",
       "**Q1 Response**: Identifies unnecessary content in Policy 5: Accounting for Conference, such as cross-references to Finance One and Revenue Management accounts.\n",
       "\n",
       "**Q2 Response**: Notes that Policy 6: T Activities (little T's) contains specific procedures and therefore is not a policy, but rather a procedure. Additionally, the Q1 response contains unnecessary content about cross-references.\n",
       "\n",
       "Please let me know if you'd like me to clarify or expand on any of these points!\n"
      ],
      "text/plain": [
       "<IPython.core.display.Markdown object>"
      ]
     },
     "metadata": {},
     "output_type": "display_data"
    },
    {
     "data": {
      "text/markdown": [
       "### The response from LLM regarding the fourth question is:\n"
      ],
      "text/plain": [
       "<IPython.core.display.Markdown object>"
      ]
     },
     "metadata": {},
     "output_type": "display_data"
    },
    {
     "data": {
      "text/markdown": [
       "It appears that this is not a problem to be solved, but rather a collection of university policies and procedures related to accounting, conferences, trusts, and more. The text includes several sections:\n",
       "\n",
       "1. University Policies: A collection of policies covering various topics such as accounting, conferences, trusts, and more.\n",
       "2. Q&A Responses:\n",
       "\t* q1_response: Identifies unnecessary content in Policy 5: Accounting for Conference.\n",
       "\t* q2_response: Notes that Policy 6: T Activities (little T's) contains specific procedures and therefore is not a policy, but rather a procedure. Additionally, the Q1 response contains unnecessary content about cross-references.\n",
       "\n",
       "There doesn't seem to be a clear problem or question to answer based on this text. If you could provide more context or clarify what you're trying to achieve, I'd be happy to try and assist you further!\n"
      ],
      "text/plain": [
       "<IPython.core.display.Markdown object>"
      ]
     },
     "metadata": {},
     "output_type": "display_data"
    },
    {
     "data": {
      "text/markdown": [
       "**Creditor_Invoice_Procedure policy can be found [here](../output/html/Procedures/Creditor_Invoice_Procedure.html)**\n"
      ],
      "text/plain": [
       "<IPython.core.display.Markdown object>"
      ]
     },
     "metadata": {},
     "output_type": "display_data"
    },
    {
     "data": {
      "text/markdown": [
       "**Accounting_Procedures_and_Rules policy can be found [here](../output/html/Procedures/Accounting_Procedures_and_Rules.html)**\n"
      ],
      "text/plain": [
       "<IPython.core.display.Markdown object>"
      ]
     },
     "metadata": {},
     "output_type": "display_data"
    }
   ],
   "source": [
    "print_llm_response(\"Procedures\")"
   ]
  },
  {
   "cell_type": "markdown",
   "metadata": {},
   "source": [
    "#### Fourthly, print 2 randomly selected responses from Regulations policy type."
   ]
  },
  {
   "cell_type": "code",
   "execution_count": 85,
   "metadata": {},
   "outputs": [
    {
     "data": {
      "text/markdown": [
       "## Responses are based on the first sample policy Presentation_of_Theses_Regulations from selected Regulations:\n",
       "\n"
      ],
      "text/plain": [
       "<IPython.core.display.Markdown object>"
      ]
     },
     "metadata": {},
     "output_type": "display_data"
    },
    {
     "data": {
      "text/markdown": [
       "Based on the provided policy data, I can identify that there is one policy document with unnecessary content. \n",
       "\n",
       "The policy 'Presentation_of_Theses_Regulations' contains a block of HTML/CSS code in its content, which appears to be related to a CSS class or styles, rather than actual regulatory language. This content seems unrelated to the policy's name and scope, suggesting that it may not be an integral part of the policy document.\n",
       "\n",
       "Note: The HTML/CSS code is likely a fragment from a different source (perhaps a website design) and has been mistakenly included in this policy document.\n"
      ],
      "text/plain": [
       "<IPython.core.display.Markdown object>"
      ]
     },
     "metadata": {},
     "output_type": "display_data"
    },
    {
     "data": {
      "text/markdown": [
       "### The response from LLM regarding the second question is:\n"
      ],
      "text/plain": [
       "<IPython.core.display.Markdown object>"
      ]
     },
     "metadata": {},
     "output_type": "display_data"
    },
    {
     "data": {
      "text/markdown": [
       "Based on the provided JSON data, I have identified one policy document that contains parts that are actually Procedures, not Policies. \n",
       "\n",
       "The policy document 'Presentation_of_Theses_Regulations' contains a block of HTML/CSS code in its content, which appears to be related to a CSS class or styles, rather than actual regulatory language.\n"
      ],
      "text/plain": [
       "<IPython.core.display.Markdown object>"
      ]
     },
     "metadata": {},
     "output_type": "display_data"
    },
    {
     "data": {
      "text/markdown": [
       "### The response from LLM regarding the third question is:\n"
      ],
      "text/plain": [
       "<IPython.core.display.Markdown object>"
      ]
     },
     "metadata": {},
     "output_type": "display_data"
    },
    {
     "data": {
      "text/markdown": [
       "Based on the provided JSON data, there are two policies that contain inconsistencies or structural flaws:\n",
       "\n",
       "1. **Policy Name: Presentation_of_Theses_Regulations**\n",
       "   - The policy document contains an unexpected block of HTML/CSS code in its content, which is not relevant to the policy's name and scope.\n",
       "   - This suggests that the policy document may have been compiled from multiple sources, resulting in unnecessary content.\n",
       "\n",
       "2. **Policy Name: Unknown Policy ( missing 'scope' field)**\n",
       "   - There is another policy with an unknown name, which is missing a 'scope' field.\n",
       "   - Without this field, it's impossible to determine the organizational scope of the policy, making it difficult to assess its relevance and applicability.\n",
       "\n",
       "Note that there is no third policy in the provided data.\n"
      ],
      "text/plain": [
       "<IPython.core.display.Markdown object>"
      ]
     },
     "metadata": {},
     "output_type": "display_data"
    },
    {
     "data": {
      "text/markdown": [
       "### The response from LLM regarding the fourth question is:\n"
      ],
      "text/plain": [
       "<IPython.core.display.Markdown object>"
      ]
     },
     "metadata": {},
     "output_type": "display_data"
    },
    {
     "data": {
      "text/markdown": [
       "Based on the provided JSON data, here are the identified redundancy or incorrect structures:\n",
       "\n",
       "1. **Redundant content**: The 'Presentation_of_Theses_Regulations' policy document contains a block of HTML/CSS code in its content, which appears to be unrelated to the policy's name and scope. This suggests that it may not be an integral part of the policy document.\n",
       "\n",
       "2. **Missing scope field**: There is another policy with an unknown name, which is missing a 'scope' field. Without this field, it's impossible to determine the organizational scope of the policy, making it difficult to assess its relevance and applicability.\n",
       "\n",
       "3. **Inconsistent structure**: The 'Presentation_of_Theses_Regulations' policy document contains both regulatory language ('These regulations are part of the Examination and Assessment Regulations:Examination and Assessment Regulations 2014') and unrelated content (the HTML/CSS code). A more consistent structure would be to separate these two types of content into distinct sections or documents.\n",
       "\n",
       "4. **Potential duplication**: Although not explicitly stated, the presence of an unknown policy with a missing 'scope' field may indicate potential duplication of effort or policies. It's unclear whether this policy serves the same purpose as another existing policy, and it may be worth reviewing the organizational structure to avoid redundancy.\n",
       "\n",
       "5. **Unclear scope**: The 'Organisational scope not found' in the 'scope' field for the 'Presentation_of_Theses_Regulations' policy document suggests that there is confusion or missing information about the policy's scope. This could lead to inconsistencies and difficulties in applying the policy correctly.\n"
      ],
      "text/plain": [
       "<IPython.core.display.Markdown object>"
      ]
     },
     "metadata": {},
     "output_type": "display_data"
    },
    {
     "data": {
      "text/markdown": [
       "## Responses are based on the second sample policy University_Campuses_and_Premises_Regulations_2014 from selected Regulations:\n",
       "\n"
      ],
      "text/plain": [
       "<IPython.core.display.Markdown object>"
      ]
     },
     "metadata": {},
     "output_type": "display_data"
    },
    {
     "data": {
      "text/markdown": [
       "Based on the provided policy data, I found two policies that contain unnecessary content in the form of cross-references to other policies:\n",
       "\n",
       "1. 'University_Campuses_and_Premises_Regulations_2014' - The following sections are cross-referenced to other policies:\n",
       "   - Clause 6.3 refers to the Administration Statute 2011.\n",
       "   - Clause 5.1(b) and clause 8.1 refer to the same policy.\n",
       "\n",
       "2. There isn't another specific \"unnecessary content\" in the provided data, however 'register-container', '.button--colour-primary-b' seems unnecessary as they are HTML formatting tags.\n"
      ],
      "text/plain": [
       "<IPython.core.display.Markdown object>"
      ]
     },
     "metadata": {},
     "output_type": "display_data"
    },
    {
     "data": {
      "text/markdown": [
       "### The response from LLM regarding the second question is:\n"
      ],
      "text/plain": [
       "<IPython.core.display.Markdown object>"
      ]
     },
     "metadata": {},
     "output_type": "display_data"
    },
    {
     "data": {
      "text/markdown": [
       "Based on the provided policy data, I found two policies that contain parts that are actually Procedures, not Policies (i.e., they contain instructions on how to do something, rather than rules or principles):\n",
       "\n",
       "1. 'University_Campuses_and_Premises_Regulations_2014' - The following sections can be considered as procedures:\n",
       "\t* Authority of Heads of Departments and Authority of University Staff (sections 5.1(b) and 6.1(b))\n",
       "\t* Procedures for dealing with breaches, such as disciplinary actions under the Student Conduct Statute 2021.\n",
       "2. 'register-container' and '.button--colour-primary-b' are HTML formatting tags that appear to be unnecessary in the provided data.\n",
       "\n",
       "Note that these may not be considered \"procedures\" by all definitions, but rather instructions or guidelines within the policies.\n"
      ],
      "text/plain": [
       "<IPython.core.display.Markdown object>"
      ]
     },
     "metadata": {},
     "output_type": "display_data"
    },
    {
     "data": {
      "text/markdown": [
       "### The response from LLM regarding the third question is:\n"
      ],
      "text/plain": [
       "<IPython.core.display.Markdown object>"
      ]
     },
     "metadata": {},
     "output_type": "display_data"
    },
    {
     "data": {
      "text/markdown": [
       "Based on the provided policy data, here are the policies that contain inconsistencies or structural flaws:\n",
       "\n",
       "1. 'University_Campuses_and_Premises_Regulations_2014' - This policy contains a section that is cross-referenced to another policy (Administration Statute 2011) and two sections that refer to the same policy (Clause 5.1(b) and Clause 8.1). These sections can be merged or removed, as they do not appear to add new information.\n",
       "\n",
       "2. 'University_Campuses_and_Premises_Regulations_2014' - This policy also contains sections that can be considered procedures rather than policies. Specifically:\n",
       "   * Authority of Heads of Departments (Section 5.1(b)) and Authority of University Staff (Section 6.1(b))\n",
       "   * Procedures for dealing with breaches, such as disciplinary actions under the Student Conduct Statute 2021\n",
       "\n",
       "3. 'register-container' and '.button--colour-primary-b' are HTML formatting tags that appear to be unnecessary in the provided data. They do not contain any policy-related information and can be removed.\n",
       "\n",
       "Note that these issues may have been intentional or part of the original formatting, but based on standard policy writing conventions, they could potentially be improved for clarity and consistency.\n"
      ],
      "text/plain": [
       "<IPython.core.display.Markdown object>"
      ]
     },
     "metadata": {},
     "output_type": "display_data"
    },
    {
     "data": {
      "text/markdown": [
       "### The response from LLM regarding the fourth question is:\n"
      ],
      "text/plain": [
       "<IPython.core.display.Markdown object>"
      ]
     },
     "metadata": {},
     "output_type": "display_data"
    },
    {
     "data": {
      "text/markdown": [
       "Based on the provided policy data, I've identified several redundancy or incorrect structures:\n",
       "\n",
       "1. Cross-references to other policies:\n",
       "\t* The section \"Definition\" in 'University_Campuses_and_Premises_Regulations_2014' refers to \"clause 6.3 of the Administration Statute 2011\", which is not present in the provided data.\n",
       "\t* Clause 5.1(b) and clause 8.1 refer to the same policy, but it's unclear what section or rule they are referencing.\n",
       "2. Procedures masquerading as policies:\n",
       "\t* The sections \"Authority of Heads of Departments\" (Section 5.1(b)) and \"Authority of University Staff\" (Section 6.1(b)) contain instructions on how to exercise authority, rather than rules or principles.\n",
       "3. Unnecessary HTML formatting tags:\n",
       "\t* The tags '.register-container' and '.button--colour-primary-b' appear to be unnecessary and can be removed from the policy data.\n",
       "4. Inconsistent structural organization:\n",
       "\t* The provided policy data includes a mix of policy text, procedural information, and formatting tags, which can make it difficult to distinguish between the two.\n",
       "\n",
       "To improve clarity and consistency in the policies, I would suggest:\n",
       "\n",
       "1. Removing cross-references to other policies that are not present in the provided data.\n",
       "2. Clarifying or reorganizing sections 5.1(b) and 8.1 to ensure they accurately reference relevant rules or principles.\n",
       "3. Identifying procedures masquerading as policies and reorganizing them into separate, clear instructions.\n",
       "4. Removing unnecessary HTML formatting tags from the policy data.\n",
       "\n",
       "By addressing these issues, it may be possible to create clearer, more consistent policies that are easier to understand and implement.\n"
      ],
      "text/plain": [
       "<IPython.core.display.Markdown object>"
      ]
     },
     "metadata": {},
     "output_type": "display_data"
    },
    {
     "data": {
      "text/markdown": [
       "**Presentation_of_Theses_Regulations policy can be found [here](../output/html/Regulations/Presentation_of_Theses_Regulations.html)**\n"
      ],
      "text/plain": [
       "<IPython.core.display.Markdown object>"
      ]
     },
     "metadata": {},
     "output_type": "display_data"
    },
    {
     "data": {
      "text/markdown": [
       "**University_Campuses_and_Premises_Regulations_2014 policy can be found [here](../output/html/Regulations/University_Campuses_and_Premises_Regulations_2014.html)**\n"
      ],
      "text/plain": [
       "<IPython.core.display.Markdown object>"
      ]
     },
     "metadata": {},
     "output_type": "display_data"
    }
   ],
   "source": [
    "print_llm_response(\"Regulations\")"
   ]
  },
  {
   "cell_type": "markdown",
   "metadata": {},
   "source": [
    "#### Finally, print 2 randomly selected responses from Guidelines policy type."
   ]
  },
  {
   "cell_type": "code",
   "execution_count": 86,
   "metadata": {},
   "outputs": [
    {
     "data": {
      "text/markdown": [
       "## Responses are based on the first sample policy Guidelines_for_Waste_Minimisation_and_Management from selected Guidelines:\n",
       "\n"
      ],
      "text/plain": [
       "<IPython.core.display.Markdown object>"
      ]
     },
     "metadata": {},
     "output_type": "display_data"
    },
    {
     "data": {
      "text/markdown": [
       "After carefully reviewing the policy document, I have identified several policies that contain cross-references to other policies, but not in the words of the policy itself. Here are the policies that meet this criterion:\n",
       "\n",
       "1. Health and Safety Policy and Procedures (mentioned multiple times in various sections)\n",
       "2. Asbestos Management Policy\n",
       "3. Blood and Body Fluid Exposure Policy (Biohazard Policy)\n",
       "4. Asset Management Procedure\n",
       "5. Waste Hierarchy (referenced multiple times throughout the document)\n",
       "6. Procurement Guidelines for Waste Minimization and Management\n",
       "\n",
       "These policies are cross-referenced, but not explicitly stated in the words of the policy itself. Instead, they are referenced as part of the larger framework of waste minimization and management practices within the university.\n"
      ],
      "text/plain": [
       "<IPython.core.display.Markdown object>"
      ]
     },
     "metadata": {},
     "output_type": "display_data"
    },
    {
     "data": {
      "text/markdown": [
       "### The response from LLM regarding the second question is:\n"
      ],
      "text/plain": [
       "<IPython.core.display.Markdown object>"
      ]
     },
     "metadata": {},
     "output_type": "display_data"
    },
    {
     "data": {
      "text/markdown": [
       "The policy document contains several sections that outline specific guidelines for various aspects of waste minimization and management within the university. Here's a summary of the key points in each section:\n",
       "\n",
       "**Section 1: Introduction**\n",
       "\n",
       "* The policy aims to minimize waste generation, reduce environmental impact, and promote sustainable practices throughout the university.\n",
       "* It outlines the university's commitment to reducing greenhouse gas emissions, conserving resources, and promoting waste reduction.\n",
       "\n",
       "**Section 2: Waste Minimization**\n",
       "\n",
       "* This section provides guidance on how to minimize waste generation in various areas of the university, including:\n",
       "\t+ Food outlets\n",
       "\t+ Residential colleges and uniflats\n",
       "\t+ Construction and trade services\n",
       "\t+ Events\n",
       "\t+ Procurement\n",
       "* It emphasizes the importance of reducing paper usage, using refillable or recyclable options, and promoting single-use cup-free policies.\n",
       "\n",
       "**Section 3: Waste Management**\n",
       "\n",
       "* This section outlines the university's waste management practices, including:\n",
       "\t+ Recycling programs\n",
       "\t+ Composting initiatives\n",
       "\t+ Disposal of hazardous waste\n",
       "\t+ Landfill diversion targets\n",
       "* It emphasizes the importance of proper waste segregation, storage, and disposal.\n",
       "\n",
       "**Section 4: Emergency Waste Management Plan**\n",
       "\n",
       "* In the event of an emergency, this section outlines the procedures for coordinating incident management and waste management.\n",
       "* It highlights the need for flexibility in responding to emergencies while maintaining health and safety requirements.\n",
       "\n",
       "**Key Takeaways**\n",
       "\n",
       "1. The policy emphasizes the importance of minimizing waste generation, reducing environmental impact, and promoting sustainable practices throughout the university.\n",
       "2. Specific guidelines are provided for various areas of the university, including food outlets, residential colleges and uniflats, construction and trade services, events, and procurement.\n",
       "3. The policy highlights the need for proper waste segregation, storage, and disposal, as well as reducing paper usage and promoting single-use cup-free policies.\n",
       "\n",
       "Overall, the policy document provides a comprehensive framework for minimizing waste generation and promoting sustainable practices within the university.\n"
      ],
      "text/plain": [
       "<IPython.core.display.Markdown object>"
      ]
     },
     "metadata": {},
     "output_type": "display_data"
    },
    {
     "data": {
      "text/markdown": [
       "### The response from LLM regarding the third question is:\n"
      ],
      "text/plain": [
       "<IPython.core.display.Markdown object>"
      ]
     },
     "metadata": {},
     "output_type": "display_data"
    },
    {
     "data": {
      "text/markdown": [
       "Based on the provided policy document, I have identified several key points and takeaways:\n",
       "\n",
       "1. **Minimizing Waste Generation**: The policy aims to minimize waste generation, reduce environmental impact, and promote sustainable practices throughout the university.\n",
       "2. **Reducing Paper Usage**: The policy emphasizes the importance of reducing paper usage, including ordering supplies to eliminate over-ordering, grouping batches to reduce packaging and transport, and focusing on purchasing refillable or recyclable options.\n",
       "3. **Single-Use Cup-Free Policies**: All campus outlets must be single-use cup-free, and users are encouraged to bring their own reusable cups.\n",
       "4. **Proper Waste Segregation**: The policy emphasizes the importance of proper waste segregation, storage, and disposal, including recycling programs, composting initiatives, and disposal of hazardous waste.\n",
       "5. **Landfill Diversion Targets**: The university aims to divert as much waste from landfills as possible, with specific targets for different types of waste.\n",
       "6. **Emergency Waste Management Plan**: In the event of an emergency, the policy outlines procedures for coordinating incident management and waste management, highlighting the need for flexibility while maintaining health and safety requirements.\n",
       "\n",
       "Overall, the policy document provides a comprehensive framework for minimizing waste generation and promoting sustainable practices within the university.\n"
      ],
      "text/plain": [
       "<IPython.core.display.Markdown object>"
      ]
     },
     "metadata": {},
     "output_type": "display_data"
    },
    {
     "data": {
      "text/markdown": [
       "### The response from LLM regarding the fourth question is:\n"
      ],
      "text/plain": [
       "<IPython.core.display.Markdown object>"
      ]
     },
     "metadata": {},
     "output_type": "display_data"
    },
    {
     "data": {
      "text/markdown": [
       "I have reviewed the provided text and identified several key points and takeaways from the policy document. Here is a summary of my findings:\n",
       "\n",
       "**Key Points:**\n",
       "\n",
       "1. **Minimizing Waste Generation**: The policy aims to minimize waste generation, reduce environmental impact, and promote sustainable practices throughout the university.\n",
       "2. **Reducing Paper Usage**: The policy emphasizes the importance of reducing paper usage, including ordering supplies to eliminate over-ordering, grouping batches to reduce packaging and transport, and focusing on purchasing refillable or recyclable options.\n",
       "3. **Single-Use Cup-Free Policies**: All campus outlets must be single-use cup-free, and users are encouraged to bring their own reusable cups.\n",
       "4. **Proper Waste Segregation**: The policy emphasizes the importance of proper waste segregation, storage, and disposal, including recycling programs, composting initiatives, and disposal of hazardous waste.\n",
       "5. **Landfill Diversion Targets**: The university aims to divert as much waste from landfills as possible, with specific targets for different types of waste.\n",
       "6. **Emergency Waste Management Plan**: In the event of an emergency, the policy outlines procedures for coordinating incident management and waste management, highlighting the need for flexibility while maintaining health and safety requirements.\n",
       "\n",
       "**Takeaways:**\n",
       "\n",
       "1. The policy provides a comprehensive framework for minimizing waste generation and promoting sustainable practices within the university.\n",
       "2. Proper waste segregation, storage, and disposal are critical to reducing environmental impact and achieving landfill diversion targets.\n",
       "3. Single-use cup-free policies and refillable or recyclable options can significantly reduce paper usage and minimize waste generation.\n",
       "4. The policy emphasizes the importance of flexibility in responding to emergencies while maintaining health and safety requirements.\n",
       "\n",
       "Overall, the policy document provides a solid foundation for minimizing waste generation and promoting sustainable practices within the university. By following these guidelines and taking a proactive approach to waste management, the university can reduce its environmental impact and promote a more sustainable future.\n"
      ],
      "text/plain": [
       "<IPython.core.display.Markdown object>"
      ]
     },
     "metadata": {},
     "output_type": "display_data"
    },
    {
     "data": {
      "text/markdown": [
       "## Responses are based on the second sample policy Private_Use_of_Dunedin_Campus_Grounds_Guidelines from selected Guidelines:\n",
       "\n"
      ],
      "text/plain": [
       "<IPython.core.display.Markdown object>"
      ]
     },
     "metadata": {},
     "output_type": "display_data"
    },
    {
     "data": {
      "text/markdown": [
       "After reviewing the policy document, I found no policies with unnecessary content such as cross-references to other policies (not present in the words of the policy itself). However, it's worth noting that some sections are referencing other University policies, such as \"Campus Memorial Policy\" and \"University Health and Safety requirements\", which implies that there might be additional policies or documents related to these topics. \n",
       "\n",
       "But from the information provided in this specific document, I did not find any cross-references to other policies within its content.\n"
      ],
      "text/plain": [
       "<IPython.core.display.Markdown object>"
      ]
     },
     "metadata": {},
     "output_type": "display_data"
    },
    {
     "data": {
      "text/markdown": [
       "### The response from LLM regarding the second question is:\n"
      ],
      "text/plain": [
       "<IPython.core.display.Markdown object>"
      ]
     },
     "metadata": {},
     "output_type": "display_data"
    },
    {
     "data": {
      "text/markdown": [
       "Based on the provided policy data, none of the policies contain parts that are actually procedures, as they all seem to be guidelines and rules rather than instructions on how to do something. The content appears to outline principles and conditions for private use of campus grounds, with some sections referencing other University policies or documents.\n",
       "\n",
       "However, if we consider the section \"On being satisfied of the existence of such risk, the Director may determine that the event is not to proceed or must be relocated to a more appropriate venue\" as potentially procedural in nature, it could be argued that there are parts of this policy that resemble procedures. But based on the overall tone and content of the document, it's reasonable to conclude that most of the policy appears to be guideline-based rather than procedure-based.\n"
      ],
      "text/plain": [
       "<IPython.core.display.Markdown object>"
      ]
     },
     "metadata": {},
     "output_type": "display_data"
    },
    {
     "data": {
      "text/markdown": [
       "### The response from LLM regarding the third question is:\n"
      ],
      "text/plain": [
       "<IPython.core.display.Markdown object>"
      ]
     },
     "metadata": {},
     "output_type": "display_data"
    },
    {
     "data": {
      "text/markdown": [
       "Based on the provided JSON data, here is an assessment of potential inconsistencies or structural flaws in the policies:\n",
       "\n",
       "1. **Lack of clear procedures**: While the policy outlines guidelines and conditions for private use of campus grounds, it does not provide explicit instructions or procedures for approval, consultation, or decision-making processes.\n",
       "\n",
       "2. **Unclear scope**: The scope section mentions that the guidelines apply to University-owned and leased property on the Dunedin campus, excluding colleges and spaces within buildings. However, it would be beneficial to clarify what exactly is excluded from this scope (e.g., are certain areas within buildings still subject to these guidelines?).\n",
       "\n",
       "3. **Overly broad definitions**: The policy defines \"commercial activities\" broadly, stating that they will normally only be approved where they are part of an event meeting specific criteria (2(a) and 2(b)). However, the policy does not provide clear guidance on what constitutes a commercial activity in this context.\n",
       "\n",
       "4. **Lack of standardization**: The locations suitable for private use include multiple options, but it would be helpful to have a more standardized or list-based format for specifying these areas, rather than relying on parenthetical comments.\n",
       "\n",
       "5. **Unclear conflict resolution process**: While the policy mentions that conflicts with other activities may lead to the University's needs taking precedence, it does not provide clear guidance on how such conflicts should be resolved or escalated.\n",
       "\n",
       "6. **Potential for ambiguity in risk assessment**: The policy references a risk assessment process, but it is unclear what specific factors or criteria would be considered when evaluating the potential risks associated with an event.\n",
       "\n",
       "7. **Limited clarity on approval process**: While the policy mentions that approval may be granted or denied based on various factors, it does not provide clear guidance on how to initiate or follow up on these requests.\n",
       "\n",
       "8. **No apparent standardization of communication channels**: The policy references multiple departments and individuals (e.g., Property Manager, Vice-Chancellor, Registrar), but it is unclear what the standard protocol is for communicating with these parties or escalating concerns.\n",
       "\n",
       "9. **Lack of clarity on fees**: While the policy mentions that commercial activities may be charged a fee by the Property Management Unit, it does not provide clear guidance on what this fee would cover, how it would be calculated, or when payment would be due.\n",
       "\n",
       "These are some potential inconsistencies or structural flaws in the provided policy data.\n"
      ],
      "text/plain": [
       "<IPython.core.display.Markdown object>"
      ]
     },
     "metadata": {},
     "output_type": "display_data"
    },
    {
     "data": {
      "text/markdown": [
       "### The response from LLM regarding the fourth question is:\n"
      ],
      "text/plain": [
       "<IPython.core.display.Markdown object>"
      ]
     },
     "metadata": {},
     "output_type": "display_data"
    },
    {
     "data": {
      "text/markdown": [
       "Based on the provided JSON data, here are some redundancy and incorrect structures of policies:\n",
       "\n",
       "1. **Overly broad definitions**: The policy defines \"commercial activities\" broadly, which could lead to ambiguity and confusion.\n",
       "\n",
       "2. **Lack of standardization**: The locations suitable for private use include multiple options, but it would be helpful to have a more standardized or list-based format for specifying these areas.\n",
       "\n",
       "3. **No apparent standardization of communication channels**: The policy references multiple departments and individuals, but it is unclear what the standard protocol is for communicating with these parties or escalating concerns.\n",
       "\n",
       "4. **Lack of clarity on fees**: While the policy mentions that commercial activities may be charged a fee by the Property Management Unit, it does not provide clear guidance on what this fee would cover, how it would be calculated, or when payment would be due.\n",
       "\n",
       "5. **Unclear conflict resolution process**: The policy mentions that conflicts with other activities may lead to the University's needs taking precedence, but it does not provide clear guidance on how such conflicts should be resolved or escalated.\n",
       "\n",
       "6. **Lack of clarity on approval process**: While the policy mentions that approval may be granted or denied based on various factors, it does not provide clear guidance on how to initiate or follow up on these requests.\n",
       "\n",
       "7. **Potential for ambiguity in risk assessment**: The policy references a risk assessment process, but it is unclear what specific factors or criteria would be considered when evaluating the potential risks associated with an event.\n",
       "\n",
       "8. **Unclear scope**: While the scope section mentions that the guidelines apply to University-owned and leased property on the Dunedin campus, excluding colleges and spaces within buildings, it would be beneficial to clarify what exactly is excluded from this scope.\n",
       "\n",
       "9. **Lack of clear procedures**: The policy outlines guidelines and conditions for private use of campus grounds but does not provide explicit instructions or procedures for approval, consultation, or decision-making processes.\n",
       "\n",
       "To improve the structure of the policy database, consider:\n",
       "\n",
       "* Providing a clearer and more concise definition of \"commercial activities\"\n",
       "* Standardizing the format for specifying locations suitable for private use\n",
       "* Establishing standard communication channels and protocols for interacting with departments and individuals\n",
       "* Clarifying what is included and excluded from the scope\n",
       "* Developing clear procedures for approval, consultation, and decision-making processes\n",
       "* Providing guidance on fees and payment terms\n",
       "* Defining clear conflict resolution processes and escalation procedures\n",
       "* Establishing a clear risk assessment process with specific criteria and factors to consider.\n"
      ],
      "text/plain": [
       "<IPython.core.display.Markdown object>"
      ]
     },
     "metadata": {},
     "output_type": "display_data"
    },
    {
     "data": {
      "text/markdown": [
       "**Guidelines_for_Waste_Minimisation_and_Management policy can be found [here](../output/html/Guidelines/Guidelines_for_Waste_Minimisation_and_Management.html)**\n"
      ],
      "text/plain": [
       "<IPython.core.display.Markdown object>"
      ]
     },
     "metadata": {},
     "output_type": "display_data"
    },
    {
     "data": {
      "text/markdown": [
       "**Private_Use_of_Dunedin_Campus_Grounds_Guidelines policy can be found [here](../output/html/Guidelines/Private_Use_of_Dunedin_Campus_Grounds_Guidelines.html)**\n"
      ],
      "text/plain": [
       "<IPython.core.display.Markdown object>"
      ]
     },
     "metadata": {},
     "output_type": "display_data"
    }
   ],
   "source": [
    "print_llm_response(\"Guidelines\")"
   ]
  }
 ],
 "metadata": {
  "kernelspec": {
   "display_name": "policy-analysis",
   "language": "python",
   "name": "python3"
  },
  "language_info": {
   "codemirror_mode": {
    "name": "ipython",
    "version": 3
   },
   "file_extension": ".py",
   "mimetype": "text/x-python",
   "name": "python",
   "nbconvert_exporter": "python",
   "pygments_lexer": "ipython3",
   "version": "3.12.8"
  }
 },
 "nbformat": 4,
 "nbformat_minor": 2
}
