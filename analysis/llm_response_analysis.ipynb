{
 "cells": [
  {
   "cell_type": "markdown",
   "metadata": {},
   "source": [
    "## In this section, we will randomly select some llm response from each policy types and analyze the quality of the response.\n"
   ]
  },
  {
   "cell_type": "code",
   "execution_count": 9,
   "metadata": {},
   "outputs": [],
   "source": [
    "import json\n",
    "import random\n",
    "from IPython.display import Markdown, display\n"
   ]
  },
  {
   "cell_type": "markdown",
   "metadata": {},
   "source": [
    "### First of all, initialize all questions asked to the llm model.\n"
   ]
  },
  {
   "cell_type": "code",
   "execution_count": 10,
   "metadata": {},
   "outputs": [],
   "source": [
    "q1 = \"Please list all policies that contain unnecessary content such as cross-references to other policies (there's a space for this in the policy documents, but not in the words of the policy itself)?\"\n",
    "\n",
    "q2 = \"Please list all policies that contain parts that are actually Procedures, not Policies (e.g. they contain instructions on how to do something, rather than rules or principles)?\"\n",
    "\n",
    "q3 = \"Please list all policies that contain inconsistencies or structural flaws. For example, if a policy is missing a section that is present in other policies, or if a policy has a section that is not relevant to the policy type?\"\n",
    "\n",
    "q4 = \"Please list all redundancy or incorrect structure of policy. It could be that there's a better way to structure the policy database, or that some policies are redundant or overlapping?\"\n"
   ]
  },
  {
   "cell_type": "markdown",
   "metadata": {},
   "source": [
    "### Then start to randomly select some responses from each policy type and analyze the quality of the response.\n",
    "\n",
    "Below is a function I created to print the response from the llm model in a more readable markdown format."
   ]
  },
  {
   "cell_type": "code",
   "execution_count": 11,
   "metadata": {},
   "outputs": [],
   "source": [
    "# Randomly select two responses from regulations\n",
    "def print_llm_response(policy_type):\n",
    "    with open(f\"./{policy_type}_llama3_2.json\") as f:\n",
    "        data = json.load(f)\n",
    "    # set seed\n",
    "    random.seed(1)\n",
    "    # randomly select two responses\n",
    "    response1 = random.choice(data)\n",
    "    response2 = random.choice(data)\n",
    "\n",
    "    location1 = f\"../output/html/{policy_type}/{response1['name']}.html\"\n",
    "    location2 = f\"../output/html/{policy_type}/{response2['name']}.html\"\n",
    "    display(Markdown(f\"## Below are Two Randomly Selected {policy_type}: {response1['name']} and {response2['name']}\\n\"))\n",
    "    display(Markdown(\"### The response from LLM regarding the first question is:\\n\"))\n",
    "    display(Markdown(response1[\"q1_response\"] + \"\\n\"))\n",
    "    display(Markdown(\"### The response from LLM regarding the second question is:\\n\"))\n",
    "    display(Markdown(response1[\"q2_response\"] + \"\\n\"))\n",
    "    display(Markdown(\"### The response from LLM regarding the third question is:\\n\"))\n",
    "    display(Markdown(response1[\"q3_response\"] + \"\\n\"))\n",
    "    display(Markdown(\"### The response from LLM regarding the fourth question is:\\n\"))\n",
    "    display(Markdown(response1[\"q4_response\"] + \"\\n\"))\n",
    "    display(Markdown(f\"**{response1['name']} policy can be found [here]({location1})**\\n\"))\n",
    "    display(Markdown(f\"**{response2['name']} policy can be found [here]({location2})**\\n\"))"
   ]
  },
  {
   "cell_type": "markdown",
   "metadata": {},
   "source": [
    "#### Firstly, print 2 randomly selected responses from Plans_Strategies policy type."
   ]
  },
  {
   "cell_type": "code",
   "execution_count": 12,
   "metadata": {},
   "outputs": [
    {
     "data": {
      "text/markdown": [
       "## Below are Two Randomly Selected Plans_Strategies: Emergency_Management_Plan and Emergency_Management_Plan\n"
      ],
      "text/plain": [
       "<IPython.core.display.Markdown object>"
      ]
     },
     "metadata": {},
     "output_type": "display_data"
    },
    {
     "data": {
      "text/markdown": [
       "### The response from LLM regarding the first question is:\n"
      ],
      "text/plain": [
       "<IPython.core.display.Markdown object>"
      ]
     },
     "metadata": {},
     "output_type": "display_data"
    },
    {
     "data": {
      "text/markdown": [
       "I haven't read all the data yet. Please provide the entire JSON format data showing the policy records, and I'll be happy to assist you once I've reviewed it thoroughly.\n"
      ],
      "text/plain": [
       "<IPython.core.display.Markdown object>"
      ]
     },
     "metadata": {},
     "output_type": "display_data"
    },
    {
     "data": {
      "text/markdown": [
       "### The response from LLM regarding the second question is:\n"
      ],
      "text/plain": [
       "<IPython.core.display.Markdown object>"
      ]
     },
     "metadata": {},
     "output_type": "display_data"
    },
    {
     "data": {
      "text/markdown": [
       "I don't see any additional policy records in the provided JSON data. The text only contains one record with a name that suggests it's an emergency management plan, but without more information, I'm unable to determine if it's a procedure or not.\n",
       "\n",
       "Please provide the entire JSON format data showing all policy records, and I'll be happy to assist you once I've reviewed it thoroughly.\n"
      ],
      "text/plain": [
       "<IPython.core.display.Markdown object>"
      ]
     },
     "metadata": {},
     "output_type": "display_data"
    },
    {
     "data": {
      "text/markdown": [
       "### The response from LLM regarding the third question is:\n"
      ],
      "text/plain": [
       "<IPython.core.display.Markdown object>"
      ]
     },
     "metadata": {},
     "output_type": "display_data"
    },
    {
     "data": {
      "text/markdown": [
       "Based on the provided JSON data, here are some policies that contain inconsistencies or structural flaws:\n",
       "\n",
       "1. Missing scope: The 'Emergency_Management_Plan' policy is missing a clear scope section. It only contains a generic text indicating that the scope is \"Organisational scope not found\", which is not sufficient.\n",
       "2. Missing content description: Like the scope, the content of the 'Emergency_Management_Plan' policy also lacks a descriptive text. A brief description of what the policy content refers to would be beneficial.\n",
       "3. Inconsistent format for responses: The 'q1_response' and 'q2_response' sections appear to be additional comments or questions from a user. They do not conform to the standard policy data structure, which suggests that they might be out-of-place or intended for human review rather than automated processing.\n",
       "\n",
       "However, without more information or additional policy records, it's difficult to make a comprehensive assessment of all policies in the JSON data.\n"
      ],
      "text/plain": [
       "<IPython.core.display.Markdown object>"
      ]
     },
     "metadata": {},
     "output_type": "display_data"
    },
    {
     "data": {
      "text/markdown": [
       "### The response from LLM regarding the fourth question is:\n"
      ],
      "text/plain": [
       "<IPython.core.display.Markdown object>"
      ]
     },
     "metadata": {},
     "output_type": "display_data"
    },
    {
     "data": {
      "text/markdown": [
       "Based on the provided JSON data showing one policy document record, here are some redundancy or incorrect structures that I found:\n",
       "\n",
       "1. **Missing scope**: The 'Emergency_Management_Plan' policy is missing a clear scope section.\n",
       "2. **Missing content description**: Like the scope, the content of the 'Emergency_Management_Plan' policy also lacks a descriptive text.\n",
       "3. **Inconsistent format for responses**: The 'q1_response' and 'q2_response' sections appear to be additional comments or questions from a user, which do not conform to the standard policy data structure.\n",
       "\n",
       "There is no indication of redundancy or overlapping policies in this single record. However, it's worth noting that there is only one policy document record provided, so without more information, it's difficult to make a comprehensive assessment of all policies in the JSON data.\n"
      ],
      "text/plain": [
       "<IPython.core.display.Markdown object>"
      ]
     },
     "metadata": {},
     "output_type": "display_data"
    },
    {
     "data": {
      "text/markdown": [
       "**Emergency_Management_Plan policy can be found [here](../output/html/Plans_Strategies/Emergency_Management_Plan.html)**\n"
      ],
      "text/plain": [
       "<IPython.core.display.Markdown object>"
      ]
     },
     "metadata": {},
     "output_type": "display_data"
    },
    {
     "data": {
      "text/markdown": [
       "**Emergency_Management_Plan policy can be found [here](../output/html/Plans_Strategies/Emergency_Management_Plan.html)**\n"
      ],
      "text/plain": [
       "<IPython.core.display.Markdown object>"
      ]
     },
     "metadata": {},
     "output_type": "display_data"
    }
   ],
   "source": [
    "print_llm_response(\"Plans_Strategies\")"
   ]
  },
  {
   "cell_type": "markdown",
   "metadata": {},
   "source": [
    "#### Secondly, print 2 randomly selected responses from Policies policy type."
   ]
  },
  {
   "cell_type": "code",
   "execution_count": 13,
   "metadata": {},
   "outputs": [
    {
     "data": {
      "text/markdown": [
       "## Below are Two Randomly Selected Policies: Open_Access_Policy and Use_of_Generative_Artificial_Intelligences_and_Autonomous_Content_Generation_in_Learning_and_Teaching_policy\n"
      ],
      "text/plain": [
       "<IPython.core.display.Markdown object>"
      ]
     },
     "metadata": {},
     "output_type": "display_data"
    },
    {
     "data": {
      "text/markdown": [
       "### The response from LLM regarding the first question is:\n"
      ],
      "text/plain": [
       "<IPython.core.display.Markdown object>"
      ]
     },
     "metadata": {},
     "output_type": "display_data"
    },
    {
     "data": {
      "text/markdown": [
       "After analyzing the policy document, I found one section with unnecessary content which appears to be a cross-reference to another policy:\n",
       "\n",
       "* The phrase \"or other researchers\" is mentioned in the following sentence: \"Staff and students – especially those in disciplines with strong links to government agencies or the community – are encouraged to make University-generated research outputs, ideas and knowledge available, without barriers to their reuse by the public or other researchers.\"\n",
       "\n",
       "However, there is also another instance which is repeated:\n",
       "\n",
       "* The phrase \"or who wish to use our work in their own teaching and research without legal or technical barriers\" is mentioned twice.\n",
       "\n",
       "It appears that these are cross-references to policies on access to University of Otago scholarship.\n"
      ],
      "text/plain": [
       "<IPython.core.display.Markdown object>"
      ]
     },
     "metadata": {},
     "output_type": "display_data"
    },
    {
     "data": {
      "text/markdown": [
       "### The response from LLM regarding the second question is:\n"
      ],
      "text/plain": [
       "<IPython.core.display.Markdown object>"
      ]
     },
     "metadata": {},
     "output_type": "display_data"
    },
    {
     "data": {
      "text/markdown": [
       "Based on the provided policy data, I did not find any section that contains instructions on how to do something. However, there are sections that contain procedures or guidelines for certain actions, such as:\n",
       "\n",
       "* Section 2: Intellectual property - This section outlines the process for managing and protecting intellectual property rights.\n",
       "* Section 3: Open Access to University of Otago scholarship - This section provides recommendations for staff and students on how to publish their work in open access journals and repositories.\n",
       "\n",
       "These sections are more procedural in nature, outlining specific actions or guidelines that need to be followed.\n"
      ],
      "text/plain": [
       "<IPython.core.display.Markdown object>"
      ]
     },
     "metadata": {},
     "output_type": "display_data"
    },
    {
     "data": {
      "text/markdown": [
       "### The response from LLM regarding the third question is:\n"
      ],
      "text/plain": [
       "<IPython.core.display.Markdown object>"
      ]
     },
     "metadata": {},
     "output_type": "display_data"
    },
    {
     "data": {
      "text/markdown": [
       "Based on the provided policy data, I have identified the following policies that contain inconsistencies or structural flaws:\n",
       "\n",
       "1. The repeated use of phrases \"or other researchers\" and \"who wish to use our work in their own teaching and research without legal or technical barriers\". These phrases seem to be cross-references to policies on access to University of Otago scholarship, but they are not clearly linked to any specific policy.\n",
       "\n",
       "2. Section 3: Open Access to University of Otago scholarship could be more specific and detailed in its recommendations for staff and students. While it provides some general guidelines, it would be beneficial to have more concrete instructions on how to publish work in open access journals and repositories.\n",
       "\n",
       "3. The phrase \"fosters the sharing and spread of knowledge and accelerates the progress of discovery\" is used in Section 1: General principles. However, this statement seems to be more applicable to a policy on research funding or innovation, rather than an open access policy.\n",
       "\n",
       "4. There is no clear indication of what constitutes \"stable, non-commercial repositories\" mentioned in Section 3: Open Access to University of Otago scholarship. It would be beneficial to have a clearer definition of what these repositories are and how they should be used.\n",
       "\n",
       "Overall, while the provided policy data seems well-structured, there are some areas that could be improved upon to make it more effective and clear.\n"
      ],
      "text/plain": [
       "<IPython.core.display.Markdown object>"
      ]
     },
     "metadata": {},
     "output_type": "display_data"
    },
    {
     "data": {
      "text/markdown": [
       "### The response from LLM regarding the fourth question is:\n"
      ],
      "text/plain": [
       "<IPython.core.display.Markdown object>"
      ]
     },
     "metadata": {},
     "output_type": "display_data"
    },
    {
     "data": {
      "text/markdown": [
       "Based on the provided policy data, here are the identified redundancies or incorrect structures:\n",
       "\n",
       "1. **Redundant phrases**: The phrase \"or other researchers\" is repeated in Section 1: General principles without being clearly linked to any specific policy.\n",
       "2. **Duplicate language**: The phrase \"who wish to use our work in their own teaching and research without legal or technical barriers\" appears twice in Section 1: General principles with no clear connection to any specific policy.\n",
       "3. **Inconsistent scope**: The statement \"Predominantly this will apply to peer-reviewed research publications, particularly journal articles...\" in Section 1: General principles seems more applicable to a policy on research funding or innovation rather than an open access policy.\n",
       "4. **Ambiguous terminology**: The term \"stable, non-commercial repositories\" in Section 3: Open Access to University of Otago scholarship is not clearly defined, and it would be beneficial to have a clearer definition.\n",
       "5. **Lack of specificity**: Section 3: Open Access to University of Otago scholarship provides general guidelines for staff and students but lacks concrete instructions on how to publish work in open access journals and repositories.\n",
       "\n",
       "Overall, the policy data seems well-structured, but there are areas that could be improved upon to make it more effective and clear.\n"
      ],
      "text/plain": [
       "<IPython.core.display.Markdown object>"
      ]
     },
     "metadata": {},
     "output_type": "display_data"
    },
    {
     "data": {
      "text/markdown": [
       "**Open_Access_Policy policy can be found [here](../output/html/Policies/Open_Access_Policy.html)**\n"
      ],
      "text/plain": [
       "<IPython.core.display.Markdown object>"
      ]
     },
     "metadata": {},
     "output_type": "display_data"
    },
    {
     "data": {
      "text/markdown": [
       "**Use_of_Generative_Artificial_Intelligences_and_Autonomous_Content_Generation_in_Learning_and_Teaching_policy policy can be found [here](../output/html/Policies/Use_of_Generative_Artificial_Intelligences_and_Autonomous_Content_Generation_in_Learning_and_Teaching_policy.html)**\n"
      ],
      "text/plain": [
       "<IPython.core.display.Markdown object>"
      ]
     },
     "metadata": {},
     "output_type": "display_data"
    }
   ],
   "source": [
    "print_llm_response(\"Policies\")"
   ]
  },
  {
   "cell_type": "markdown",
   "metadata": {},
   "source": [
    "#### Thirdly, print 2 randomly selected responses from Policies policy type."
   ]
  },
  {
   "cell_type": "code",
   "execution_count": 14,
   "metadata": {},
   "outputs": [
    {
     "data": {
      "text/markdown": [
       "## Below are Two Randomly Selected Policies: Open_Access_Policy and Use_of_Generative_Artificial_Intelligences_and_Autonomous_Content_Generation_in_Learning_and_Teaching_policy\n"
      ],
      "text/plain": [
       "<IPython.core.display.Markdown object>"
      ]
     },
     "metadata": {},
     "output_type": "display_data"
    },
    {
     "data": {
      "text/markdown": [
       "### The response from LLM regarding the first question is:\n"
      ],
      "text/plain": [
       "<IPython.core.display.Markdown object>"
      ]
     },
     "metadata": {},
     "output_type": "display_data"
    },
    {
     "data": {
      "text/markdown": [
       "After analyzing the policy document, I found one section with unnecessary content which appears to be a cross-reference to another policy:\n",
       "\n",
       "* The phrase \"or other researchers\" is mentioned in the following sentence: \"Staff and students – especially those in disciplines with strong links to government agencies or the community – are encouraged to make University-generated research outputs, ideas and knowledge available, without barriers to their reuse by the public or other researchers.\"\n",
       "\n",
       "However, there is also another instance which is repeated:\n",
       "\n",
       "* The phrase \"or who wish to use our work in their own teaching and research without legal or technical barriers\" is mentioned twice.\n",
       "\n",
       "It appears that these are cross-references to policies on access to University of Otago scholarship.\n"
      ],
      "text/plain": [
       "<IPython.core.display.Markdown object>"
      ]
     },
     "metadata": {},
     "output_type": "display_data"
    },
    {
     "data": {
      "text/markdown": [
       "### The response from LLM regarding the second question is:\n"
      ],
      "text/plain": [
       "<IPython.core.display.Markdown object>"
      ]
     },
     "metadata": {},
     "output_type": "display_data"
    },
    {
     "data": {
      "text/markdown": [
       "Based on the provided policy data, I did not find any section that contains instructions on how to do something. However, there are sections that contain procedures or guidelines for certain actions, such as:\n",
       "\n",
       "* Section 2: Intellectual property - This section outlines the process for managing and protecting intellectual property rights.\n",
       "* Section 3: Open Access to University of Otago scholarship - This section provides recommendations for staff and students on how to publish their work in open access journals and repositories.\n",
       "\n",
       "These sections are more procedural in nature, outlining specific actions or guidelines that need to be followed.\n"
      ],
      "text/plain": [
       "<IPython.core.display.Markdown object>"
      ]
     },
     "metadata": {},
     "output_type": "display_data"
    },
    {
     "data": {
      "text/markdown": [
       "### The response from LLM regarding the third question is:\n"
      ],
      "text/plain": [
       "<IPython.core.display.Markdown object>"
      ]
     },
     "metadata": {},
     "output_type": "display_data"
    },
    {
     "data": {
      "text/markdown": [
       "Based on the provided policy data, I have identified the following policies that contain inconsistencies or structural flaws:\n",
       "\n",
       "1. The repeated use of phrases \"or other researchers\" and \"who wish to use our work in their own teaching and research without legal or technical barriers\". These phrases seem to be cross-references to policies on access to University of Otago scholarship, but they are not clearly linked to any specific policy.\n",
       "\n",
       "2. Section 3: Open Access to University of Otago scholarship could be more specific and detailed in its recommendations for staff and students. While it provides some general guidelines, it would be beneficial to have more concrete instructions on how to publish work in open access journals and repositories.\n",
       "\n",
       "3. The phrase \"fosters the sharing and spread of knowledge and accelerates the progress of discovery\" is used in Section 1: General principles. However, this statement seems to be more applicable to a policy on research funding or innovation, rather than an open access policy.\n",
       "\n",
       "4. There is no clear indication of what constitutes \"stable, non-commercial repositories\" mentioned in Section 3: Open Access to University of Otago scholarship. It would be beneficial to have a clearer definition of what these repositories are and how they should be used.\n",
       "\n",
       "Overall, while the provided policy data seems well-structured, there are some areas that could be improved upon to make it more effective and clear.\n"
      ],
      "text/plain": [
       "<IPython.core.display.Markdown object>"
      ]
     },
     "metadata": {},
     "output_type": "display_data"
    },
    {
     "data": {
      "text/markdown": [
       "### The response from LLM regarding the fourth question is:\n"
      ],
      "text/plain": [
       "<IPython.core.display.Markdown object>"
      ]
     },
     "metadata": {},
     "output_type": "display_data"
    },
    {
     "data": {
      "text/markdown": [
       "Based on the provided policy data, here are the identified redundancies or incorrect structures:\n",
       "\n",
       "1. **Redundant phrases**: The phrase \"or other researchers\" is repeated in Section 1: General principles without being clearly linked to any specific policy.\n",
       "2. **Duplicate language**: The phrase \"who wish to use our work in their own teaching and research without legal or technical barriers\" appears twice in Section 1: General principles with no clear connection to any specific policy.\n",
       "3. **Inconsistent scope**: The statement \"Predominantly this will apply to peer-reviewed research publications, particularly journal articles...\" in Section 1: General principles seems more applicable to a policy on research funding or innovation rather than an open access policy.\n",
       "4. **Ambiguous terminology**: The term \"stable, non-commercial repositories\" in Section 3: Open Access to University of Otago scholarship is not clearly defined, and it would be beneficial to have a clearer definition.\n",
       "5. **Lack of specificity**: Section 3: Open Access to University of Otago scholarship provides general guidelines for staff and students but lacks concrete instructions on how to publish work in open access journals and repositories.\n",
       "\n",
       "Overall, the policy data seems well-structured, but there are areas that could be improved upon to make it more effective and clear.\n"
      ],
      "text/plain": [
       "<IPython.core.display.Markdown object>"
      ]
     },
     "metadata": {},
     "output_type": "display_data"
    },
    {
     "data": {
      "text/markdown": [
       "**Open_Access_Policy policy can be found [here](../output/html/Policies/Open_Access_Policy.html)**\n"
      ],
      "text/plain": [
       "<IPython.core.display.Markdown object>"
      ]
     },
     "metadata": {},
     "output_type": "display_data"
    },
    {
     "data": {
      "text/markdown": [
       "**Use_of_Generative_Artificial_Intelligences_and_Autonomous_Content_Generation_in_Learning_and_Teaching_policy policy can be found [here](../output/html/Policies/Use_of_Generative_Artificial_Intelligences_and_Autonomous_Content_Generation_in_Learning_and_Teaching_policy.html)**\n"
      ],
      "text/plain": [
       "<IPython.core.display.Markdown object>"
      ]
     },
     "metadata": {},
     "output_type": "display_data"
    }
   ],
   "source": [
    "print_llm_response(\"Policies\")"
   ]
  },
  {
   "cell_type": "markdown",
   "metadata": {},
   "source": [
    "#### Fourthly, print 2 randomly selected responses from Regulations policy type."
   ]
  },
  {
   "cell_type": "code",
   "execution_count": 15,
   "metadata": {},
   "outputs": [
    {
     "data": {
      "text/markdown": [
       "## Below are Two Randomly Selected Regulations: Presentation_of_Theses_Regulations and Traffic_and_Parking_Regulations_2019\n"
      ],
      "text/plain": [
       "<IPython.core.display.Markdown object>"
      ]
     },
     "metadata": {},
     "output_type": "display_data"
    },
    {
     "data": {
      "text/markdown": [
       "### The response from LLM regarding the first question is:\n"
      ],
      "text/plain": [
       "<IPython.core.display.Markdown object>"
      ]
     },
     "metadata": {},
     "output_type": "display_data"
    },
    {
     "data": {
      "text/markdown": [
       "Based on the provided policy data, I can identify that there is one policy document with unnecessary content. \n",
       "\n",
       "The policy 'Presentation_of_Theses_Regulations' contains a block of HTML/CSS code in its content, which appears to be related to a CSS class or styles, rather than actual regulatory language. This content seems unrelated to the policy's name and scope, suggesting that it may not be an integral part of the policy document.\n",
       "\n",
       "Note: The HTML/CSS code is likely a fragment from a different source (perhaps a website design) and has been mistakenly included in this policy document.\n"
      ],
      "text/plain": [
       "<IPython.core.display.Markdown object>"
      ]
     },
     "metadata": {},
     "output_type": "display_data"
    },
    {
     "data": {
      "text/markdown": [
       "### The response from LLM regarding the second question is:\n"
      ],
      "text/plain": [
       "<IPython.core.display.Markdown object>"
      ]
     },
     "metadata": {},
     "output_type": "display_data"
    },
    {
     "data": {
      "text/markdown": [
       "Based on the provided JSON data, I have identified one policy document that contains parts that are actually Procedures, not Policies. \n",
       "\n",
       "The policy document 'Presentation_of_Theses_Regulations' contains a block of HTML/CSS code in its content, which appears to be related to a CSS class or styles, rather than actual regulatory language.\n"
      ],
      "text/plain": [
       "<IPython.core.display.Markdown object>"
      ]
     },
     "metadata": {},
     "output_type": "display_data"
    },
    {
     "data": {
      "text/markdown": [
       "### The response from LLM regarding the third question is:\n"
      ],
      "text/plain": [
       "<IPython.core.display.Markdown object>"
      ]
     },
     "metadata": {},
     "output_type": "display_data"
    },
    {
     "data": {
      "text/markdown": [
       "Based on the provided JSON data, there are two policies that contain inconsistencies or structural flaws:\n",
       "\n",
       "1. **Policy Name: Presentation_of_Theses_Regulations**\n",
       "   - The policy document contains an unexpected block of HTML/CSS code in its content, which is not relevant to the policy's name and scope.\n",
       "   - This suggests that the policy document may have been compiled from multiple sources, resulting in unnecessary content.\n",
       "\n",
       "2. **Policy Name: Unknown Policy ( missing 'scope' field)**\n",
       "   - There is another policy with an unknown name, which is missing a 'scope' field.\n",
       "   - Without this field, it's impossible to determine the organizational scope of the policy, making it difficult to assess its relevance and applicability.\n",
       "\n",
       "Note that there is no third policy in the provided data.\n"
      ],
      "text/plain": [
       "<IPython.core.display.Markdown object>"
      ]
     },
     "metadata": {},
     "output_type": "display_data"
    },
    {
     "data": {
      "text/markdown": [
       "### The response from LLM regarding the fourth question is:\n"
      ],
      "text/plain": [
       "<IPython.core.display.Markdown object>"
      ]
     },
     "metadata": {},
     "output_type": "display_data"
    },
    {
     "data": {
      "text/markdown": [
       "Based on the provided JSON data, here are the identified redundancy or incorrect structures:\n",
       "\n",
       "1. **Redundant content**: The 'Presentation_of_Theses_Regulations' policy document contains a block of HTML/CSS code in its content, which appears to be unrelated to the policy's name and scope. This suggests that it may not be an integral part of the policy document.\n",
       "\n",
       "2. **Missing scope field**: There is another policy with an unknown name, which is missing a 'scope' field. Without this field, it's impossible to determine the organizational scope of the policy, making it difficult to assess its relevance and applicability.\n",
       "\n",
       "3. **Inconsistent structure**: The 'Presentation_of_Theses_Regulations' policy document contains both regulatory language ('These regulations are part of the Examination and Assessment Regulations:Examination and Assessment Regulations 2014') and unrelated content (the HTML/CSS code). A more consistent structure would be to separate these two types of content into distinct sections or documents.\n",
       "\n",
       "4. **Potential duplication**: Although not explicitly stated, the presence of an unknown policy with a missing 'scope' field may indicate potential duplication of effort or policies. It's unclear whether this policy serves the same purpose as another existing policy, and it may be worth reviewing the organizational structure to avoid redundancy.\n",
       "\n",
       "5. **Unclear scope**: The 'Organisational scope not found' in the 'scope' field for the 'Presentation_of_Theses_Regulations' policy document suggests that there is confusion or missing information about the policy's scope. This could lead to inconsistencies and difficulties in applying the policy correctly.\n"
      ],
      "text/plain": [
       "<IPython.core.display.Markdown object>"
      ]
     },
     "metadata": {},
     "output_type": "display_data"
    },
    {
     "data": {
      "text/markdown": [
       "**Presentation_of_Theses_Regulations policy can be found [here](../output/html/Regulations/Presentation_of_Theses_Regulations.html)**\n"
      ],
      "text/plain": [
       "<IPython.core.display.Markdown object>"
      ]
     },
     "metadata": {},
     "output_type": "display_data"
    },
    {
     "data": {
      "text/markdown": [
       "**Traffic_and_Parking_Regulations_2019 policy can be found [here](../output/html/Regulations/Traffic_and_Parking_Regulations_2019.html)**\n"
      ],
      "text/plain": [
       "<IPython.core.display.Markdown object>"
      ]
     },
     "metadata": {},
     "output_type": "display_data"
    }
   ],
   "source": [
    "print_llm_response(\"Regulations\")"
   ]
  },
  {
   "cell_type": "markdown",
   "metadata": {},
   "source": [
    "#### Finally, print 2 randomly selected responses from Guidelines policy type."
   ]
  },
  {
   "cell_type": "code",
   "execution_count": 16,
   "metadata": {},
   "outputs": [
    {
     "data": {
      "text/markdown": [
       "## Below are Two Randomly Selected Guidelines: Guidelines_for_Waste_Minimisation_and_Management and Adverse_Weather_Conditions_Snow_Day_Guidelines\n"
      ],
      "text/plain": [
       "<IPython.core.display.Markdown object>"
      ]
     },
     "metadata": {},
     "output_type": "display_data"
    },
    {
     "data": {
      "text/markdown": [
       "### The response from LLM regarding the first question is:\n"
      ],
      "text/plain": [
       "<IPython.core.display.Markdown object>"
      ]
     },
     "metadata": {},
     "output_type": "display_data"
    },
    {
     "data": {
      "text/markdown": [
       "After carefully reviewing the policy document, I have identified several policies that contain cross-references to other policies, but not in the words of the policy itself. Here are the policies that meet this criterion:\n",
       "\n",
       "1. Health and Safety Policy and Procedures (mentioned multiple times in various sections)\n",
       "2. Asbestos Management Policy\n",
       "3. Blood and Body Fluid Exposure Policy (Biohazard Policy)\n",
       "4. Asset Management Procedure\n",
       "5. Waste Hierarchy (referenced multiple times throughout the document)\n",
       "6. Procurement Guidelines for Waste Minimization and Management\n",
       "\n",
       "These policies are cross-referenced, but not explicitly stated in the words of the policy itself. Instead, they are referenced as part of the larger framework of waste minimization and management practices within the university.\n"
      ],
      "text/plain": [
       "<IPython.core.display.Markdown object>"
      ]
     },
     "metadata": {},
     "output_type": "display_data"
    },
    {
     "data": {
      "text/markdown": [
       "### The response from LLM regarding the second question is:\n"
      ],
      "text/plain": [
       "<IPython.core.display.Markdown object>"
      ]
     },
     "metadata": {},
     "output_type": "display_data"
    },
    {
     "data": {
      "text/markdown": [
       "The policy document contains several sections that outline specific guidelines for various aspects of waste minimization and management within the university. Here's a summary of the key points in each section:\n",
       "\n",
       "**Section 1: Introduction**\n",
       "\n",
       "* The policy aims to minimize waste generation, reduce environmental impact, and promote sustainable practices throughout the university.\n",
       "* It outlines the university's commitment to reducing greenhouse gas emissions, conserving resources, and promoting waste reduction.\n",
       "\n",
       "**Section 2: Waste Minimization**\n",
       "\n",
       "* This section provides guidance on how to minimize waste generation in various areas of the university, including:\n",
       "\t+ Food outlets\n",
       "\t+ Residential colleges and uniflats\n",
       "\t+ Construction and trade services\n",
       "\t+ Events\n",
       "\t+ Procurement\n",
       "* It emphasizes the importance of reducing paper usage, using refillable or recyclable options, and promoting single-use cup-free policies.\n",
       "\n",
       "**Section 3: Waste Management**\n",
       "\n",
       "* This section outlines the university's waste management practices, including:\n",
       "\t+ Recycling programs\n",
       "\t+ Composting initiatives\n",
       "\t+ Disposal of hazardous waste\n",
       "\t+ Landfill diversion targets\n",
       "* It emphasizes the importance of proper waste segregation, storage, and disposal.\n",
       "\n",
       "**Section 4: Emergency Waste Management Plan**\n",
       "\n",
       "* In the event of an emergency, this section outlines the procedures for coordinating incident management and waste management.\n",
       "* It highlights the need for flexibility in responding to emergencies while maintaining health and safety requirements.\n",
       "\n",
       "**Key Takeaways**\n",
       "\n",
       "1. The policy emphasizes the importance of minimizing waste generation, reducing environmental impact, and promoting sustainable practices throughout the university.\n",
       "2. Specific guidelines are provided for various areas of the university, including food outlets, residential colleges and uniflats, construction and trade services, events, and procurement.\n",
       "3. The policy highlights the need for proper waste segregation, storage, and disposal, as well as reducing paper usage and promoting single-use cup-free policies.\n",
       "\n",
       "Overall, the policy document provides a comprehensive framework for minimizing waste generation and promoting sustainable practices within the university.\n"
      ],
      "text/plain": [
       "<IPython.core.display.Markdown object>"
      ]
     },
     "metadata": {},
     "output_type": "display_data"
    },
    {
     "data": {
      "text/markdown": [
       "### The response from LLM regarding the third question is:\n"
      ],
      "text/plain": [
       "<IPython.core.display.Markdown object>"
      ]
     },
     "metadata": {},
     "output_type": "display_data"
    },
    {
     "data": {
      "text/markdown": [
       "Based on the provided policy document, I have identified several key points and takeaways:\n",
       "\n",
       "1. **Minimizing Waste Generation**: The policy aims to minimize waste generation, reduce environmental impact, and promote sustainable practices throughout the university.\n",
       "2. **Reducing Paper Usage**: The policy emphasizes the importance of reducing paper usage, including ordering supplies to eliminate over-ordering, grouping batches to reduce packaging and transport, and focusing on purchasing refillable or recyclable options.\n",
       "3. **Single-Use Cup-Free Policies**: All campus outlets must be single-use cup-free, and users are encouraged to bring their own reusable cups.\n",
       "4. **Proper Waste Segregation**: The policy emphasizes the importance of proper waste segregation, storage, and disposal, including recycling programs, composting initiatives, and disposal of hazardous waste.\n",
       "5. **Landfill Diversion Targets**: The university aims to divert as much waste from landfills as possible, with specific targets for different types of waste.\n",
       "6. **Emergency Waste Management Plan**: In the event of an emergency, the policy outlines procedures for coordinating incident management and waste management, highlighting the need for flexibility while maintaining health and safety requirements.\n",
       "\n",
       "Overall, the policy document provides a comprehensive framework for minimizing waste generation and promoting sustainable practices within the university.\n"
      ],
      "text/plain": [
       "<IPython.core.display.Markdown object>"
      ]
     },
     "metadata": {},
     "output_type": "display_data"
    },
    {
     "data": {
      "text/markdown": [
       "### The response from LLM regarding the fourth question is:\n"
      ],
      "text/plain": [
       "<IPython.core.display.Markdown object>"
      ]
     },
     "metadata": {},
     "output_type": "display_data"
    },
    {
     "data": {
      "text/markdown": [
       "I have reviewed the provided text and identified several key points and takeaways from the policy document. Here is a summary of my findings:\n",
       "\n",
       "**Key Points:**\n",
       "\n",
       "1. **Minimizing Waste Generation**: The policy aims to minimize waste generation, reduce environmental impact, and promote sustainable practices throughout the university.\n",
       "2. **Reducing Paper Usage**: The policy emphasizes the importance of reducing paper usage, including ordering supplies to eliminate over-ordering, grouping batches to reduce packaging and transport, and focusing on purchasing refillable or recyclable options.\n",
       "3. **Single-Use Cup-Free Policies**: All campus outlets must be single-use cup-free, and users are encouraged to bring their own reusable cups.\n",
       "4. **Proper Waste Segregation**: The policy emphasizes the importance of proper waste segregation, storage, and disposal, including recycling programs, composting initiatives, and disposal of hazardous waste.\n",
       "5. **Landfill Diversion Targets**: The university aims to divert as much waste from landfills as possible, with specific targets for different types of waste.\n",
       "6. **Emergency Waste Management Plan**: In the event of an emergency, the policy outlines procedures for coordinating incident management and waste management, highlighting the need for flexibility while maintaining health and safety requirements.\n",
       "\n",
       "**Takeaways:**\n",
       "\n",
       "1. The policy provides a comprehensive framework for minimizing waste generation and promoting sustainable practices within the university.\n",
       "2. Proper waste segregation, storage, and disposal are critical to reducing environmental impact and achieving landfill diversion targets.\n",
       "3. Single-use cup-free policies and refillable or recyclable options can significantly reduce paper usage and minimize waste generation.\n",
       "4. The policy emphasizes the importance of flexibility in responding to emergencies while maintaining health and safety requirements.\n",
       "\n",
       "Overall, the policy document provides a solid foundation for minimizing waste generation and promoting sustainable practices within the university. By following these guidelines and taking a proactive approach to waste management, the university can reduce its environmental impact and promote a more sustainable future.\n"
      ],
      "text/plain": [
       "<IPython.core.display.Markdown object>"
      ]
     },
     "metadata": {},
     "output_type": "display_data"
    },
    {
     "data": {
      "text/markdown": [
       "**Guidelines_for_Waste_Minimisation_and_Management policy can be found [here](../output/html/Guidelines/Guidelines_for_Waste_Minimisation_and_Management.html)**\n"
      ],
      "text/plain": [
       "<IPython.core.display.Markdown object>"
      ]
     },
     "metadata": {},
     "output_type": "display_data"
    },
    {
     "data": {
      "text/markdown": [
       "**Adverse_Weather_Conditions_Snow_Day_Guidelines policy can be found [here](../output/html/Guidelines/Adverse_Weather_Conditions_Snow_Day_Guidelines.html)**\n"
      ],
      "text/plain": [
       "<IPython.core.display.Markdown object>"
      ]
     },
     "metadata": {},
     "output_type": "display_data"
    }
   ],
   "source": [
    "print_llm_response(\"Guidelines\")"
   ]
  }
 ],
 "metadata": {
  "kernelspec": {
   "display_name": "policy-analysis",
   "language": "python",
   "name": "python3"
  },
  "language_info": {
   "codemirror_mode": {
    "name": "ipython",
    "version": 3
   },
   "file_extension": ".py",
   "mimetype": "text/x-python",
   "name": "python",
   "nbconvert_exporter": "python",
   "pygments_lexer": "ipython3",
   "version": "3.12.2"
  }
 },
 "nbformat": 4,
 "nbformat_minor": 2
}
